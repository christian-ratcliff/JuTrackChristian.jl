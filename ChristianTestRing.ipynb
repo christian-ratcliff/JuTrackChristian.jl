{
 "cells": [
  {
   "cell_type": "code",
   "execution_count": 1,
   "metadata": {},
   "outputs": [
    {
     "data": {
      "text/plain": [
       "Main.JuTrack"
      ]
     },
     "metadata": {},
     "output_type": "display_data"
    }
   ],
   "source": [
    "include(\"src/JuTrack.jl\")"
   ]
  },
  {
   "cell_type": "code",
   "execution_count": 2,
   "metadata": {},
   "outputs": [
    {
     "data": {
      "text/plain": [
       "ssrf (generic function with 1 method)"
      ]
     },
     "metadata": {},
     "output_type": "display_data"
    }
   ],
   "source": [
    "using .JuTrack\n",
    "using Enzyme\n",
    "using Test\n",
    "using BenchmarkTools\n",
    "include(\"test/ssrf_ring.jl\")"
   ]
  },
  {
   "cell_type": "code",
   "execution_count": 21,
   "metadata": {},
   "outputs": [],
   "source": [
    "#CTPS = CTPS (intial value, what palce in array that derv occupies, # of unique variables finding derv of, order of calculation)"
   ]
  },
  {
   "cell_type": "code",
   "execution_count": 59,
   "metadata": {},
   "outputs": [
    {
     "data": {
      "text/plain": [
       "twiss (generic function with 1 method)"
      ]
     },
     "metadata": {},
     "output_type": "display_data"
    }
   ],
   "source": [
    "function fodo_ring(K1, RAD)\n",
    "        D1 = DRIFT(name=\"D1\", len=0.34)\n",
    "        D2 = DRIFT(name=\"D2\", len=0.59)\n",
    "        QF1 = KQUAD(name=\"QF1\", len=0.32, k1=K1, rad=RAD )\n",
    "        QD1 = KQUAD(name=\"QD1\", len=0.32, k1=-1.192160, rad=RAD  )\n",
    "        BendingAngle = pi/20\n",
    "        BD1 = SBEND(name=\"BD1\", len=0.72, angle=BendingAngle/2, e1=BendingAngle/2, e2=0.0 , rad=RAD )\n",
    "        BD2 = SBEND(name=\"BD2\", len=0.72, angle=BendingAngle/2, e1=0.0, e2=BendingAngle/2, rad=RAD  )\n",
    "\n",
    "        FODO = (QF1, D1, QD1, D1, QF1)\n",
    "        BD1_comp = (BD1)\n",
    "        BD2_comp = (BD2)\n",
    "        D2_comp = (D2)\n",
    "\n",
    "        CELL = Vector{AbstractElement}(undef, 8)\n",
    "        for i in eachindex(FODO)\n",
    "                CELL[i] = FODO[i]\n",
    "        end\n",
    "        CELL[length(FODO)+1] = BD1\n",
    "        CELL[length(FODO)+2] = D2\n",
    "        CELL[length(FODO)+3] = BD2\n",
    "                # CELL[i+172] = M5[i]\n",
    "        \n",
    "        ELIST = Vector{AbstractElement}(undef, 4*length(CELL))\n",
    "        for i in eachindex(CELL)\n",
    "                ELIST[i] = CELL[i]\n",
    "                ELIST[i+length(CELL)] = CELL[i]\n",
    "                ELIST[i+2*length(CELL)] = CELL[i]\n",
    "                ELIST[i+3*length(CELL)] = CELL[i]\n",
    "        end\n",
    "        return ELIST\n",
    "end\n",
    "\n",
    "function track(k1_in)\n",
    "        particles = [0.001 0.0001 0.0005 0.0002 0.0 0.0; 0.001 0.0 0.0 0.0 0.0 0.0] #There is 2 particles here, and their 6 vector\n",
    "        beam = Beam(particles)\n",
    "        line = fodo_ring(k1_in[1],0.0)\n",
    "        linepass!(line, beam)\n",
    "        return beam.r\n",
    "end\n",
    "\n",
    "function track_TPS(k1_in)\n",
    "        line = fodo_ring(k1_in[1],0.0)\n",
    "        x = CTPS(0.0, 1, 6, 3)\n",
    "        xp = CTPS(0.0, 2, 6, 3)\n",
    "        y = CTPS(0.0, 3, 6, 3)\n",
    "        yp = CTPS(0.0, 4, 6, 3)\n",
    "        delta = CTPS(0.0, 5, 6, 3)\n",
    "        z = CTPS(0.0, 6, 6, 3)\n",
    "        rin = [x, xp, y, yp, delta, z]\n",
    "        linepass_TPSA!(line, rin)\n",
    "        return rin\n",
    "end\n",
    "\n",
    "#Between track() and track_TPS(), it seems I am only able to have one particle through TPS? Create function to loop through multiple? \n",
    "\n",
    "function twiss(k1_in)\n",
    "        fodo = fodo_ring(k1_in[1],0)\n",
    "        twiss_in = EdwardsTengTwiss(betax=2.0, betay=3.0)\n",
    "        twiss_out = Twissline(twiss_in, fodo, 0.0, 1, length(fodo) )[3] #(Twiss In, ring/line, dp, order, end index)\n",
    "        return twiss_out\n",
    "end"
   ]
  },
  {
   "cell_type": "code",
   "execution_count": 60,
   "metadata": {},
   "outputs": [
    {
     "name": "stdout",
     "output_type": "stream",
     "text": [
      "EdwardsTengTwiss(6.308037258524679e6, 6.0056676347256435, -1.9074882104729326e6, -2.7408511462377265, 576805.6090945166, 1.4173719765332176, 93.76029383266201, 28.48046008080599, 0.0, 0.0, 0.571626821312843, 2.75186009043917, 0.5410009564987482, 0.8410219765662722, 0.3799410467651746, -0.9250107031721219, [0.0 0.0; 0.0 0.0], 1)\n"
     ]
    }
   ],
   "source": [
    "# x = CTPS(3.0, 1, 6, 3)\n",
    "# y = CTPS(2.0, 2, 6, 3)\n",
    "# println(y.map[1])\n",
    "\n",
    "println(twiss([-1.063]))"
   ]
  },
  {
   "cell_type": "code",
   "execution_count": 40,
   "metadata": {},
   "outputs": [
    {
     "data": {
      "text/plain": [
       "6-element Vector{CTPS{Float64, 6, 3}}:\n",
       " CTPS{Float64, 6, 3}(3, 84, [0.0, 1288.1315606600112, 1701.0475715953958, 0.0, 0.0, 0.0, 85.58044593245963, 0.0, 0.0, 0.0  …  0.0, 0.0, 0.0, 0.0, 0.0, 0.0, 0.0, 0.0, 0.0, 655.532789287764], Base.RefValue{PolyMap}(PolyMap(6, 3, [0 0 … 0 0; 1 1 … 0 0; … ; 3 0 … 1 0; 3 0 … 0 0])))\n",
       " CTPS{Float64, 6, 3}(3, 84, [0.0, 385.551562025798, 509.1425195519279, 0.0, 0.0, 0.0, 25.744816423742847, 0.0, 0.0, 0.0  …  0.0, 0.0, 0.0, 0.0, 0.0, 0.0, 0.0, 0.0, 0.0, 128.99555750358232], Base.RefValue{PolyMap}(PolyMap(6, 3, [0 0 … 0 0; 1 1 … 0 0; … ; 3 0 … 1 0; 3 0 … 0 0])))\n",
       " CTPS{Float64, 6, 3}(3, 84, [0.0, 0.0, 0.0, -1.2053179593863022, 1.8246766866199848, 0.0, 0.0, 0.0, 0.0, 0.0  …  0.0, 0.0, 0.0, 0.0, 0.0, -29.708565451139986, 0.0, 0.0, 0.0, 0.0], Base.RefValue{PolyMap}(PolyMap(6, 3, [0 0 … 0 0; 1 1 … 0 0; … ; 3 0 … 1 0; 3 0 … 0 0])))\n",
       " CTPS{Float64, 6, 3}(3, 84, [0.0, 0.0, 0.0, -0.7376050907354532, 0.2869705958528243, 0.0, 0.0, 0.0, 0.0, 0.0  …  0.0, 0.0, 0.0, 0.0, 0.0, -10.945570633607094, 0.0, 0.0, 0.0, 0.0], Base.RefValue{PolyMap}(PolyMap(6, 3, [0 0 … 0 0; 1 1 … 0 0; … ; 3 0 … 1 0; 3 0 … 0 0])))\n",
       " CTPS{Float64, 6, 3}(3, 84, [0.0, 167.03595069721797, 220.5135923470092, 0.0, 0.0, 1.0, 11.005593724735522, 188944.49841122612, 499026.56397064816, 0.0  …  0.0, -4.501114049144086, -9.233418516333337, 0.0, 0.0, 0.0, 0.0, 0.0, -836.8830743862787, -8650.207846013249], Base.RefValue{PolyMap}(PolyMap(6, 3, [0 0 … 0 0; 1 1 … 0 0; … ; 3 0 … 1 0; 3 0 … 0 0])))\n",
       " CTPS{Float64, 6, 3}(1, 84, [0.0, 0.0, 0.0, 0.0, 0.0, 0.0, 1.0, 0.0, 0.0, 0.0  …  0.0, 0.0, 0.0, 0.0, 0.0, 0.0, 0.0, 0.0, 0.0, 0.0], Base.RefValue{PolyMap}(PolyMap(6, 3, [0 0 … 0 0; 1 1 … 0 0; … ; 3 0 … 1 0; 3 0 … 0 0])))"
      ]
     },
     "metadata": {},
     "output_type": "display_data"
    }
   ],
   "source": [
    "# track(-1)\n",
    "track_TPS(-1)"
   ]
  },
  {
   "cell_type": "code",
   "execution_count": 18,
   "metadata": {},
   "outputs": [],
   "source": [
    "\n",
    "# println(track_TPS(-1.063770))\n",
    "# println(length(track_TPS(-1.063770)))\n",
    "# x = [-1.063770]\n",
    "# println(track_TPS(x))\n",
    "# @btime track_TPS(x) \n",
    "# @btime grad = gradient(Forward, test_track_TPS, x)"
   ]
  },
  {
   "cell_type": "code",
   "execution_count": 19,
   "metadata": {},
   "outputs": [],
   "source": [
    "\n",
    "# println(track(-1.063770))\n",
    "# x = [-1.063770]\n",
    "# println(track(x))\n",
    "# @btime track(x) \n",
    "# @btime grad = gradient(Forward, track, x)\n",
    "# println(gradient(Forward, track, x))"
   ]
  },
  {
   "cell_type": "code",
   "execution_count": null,
   "metadata": {},
   "outputs": [],
   "source": []
  }
 ],
 "metadata": {
  "kernelspec": {
   "display_name": "Julia 1.9.2",
   "language": "julia",
   "name": "julia-1.9"
  },
  "language_info": {
   "file_extension": ".jl",
   "mimetype": "application/julia",
   "name": "julia",
   "version": "1.9.2"
  },
  "orig_nbformat": 4
 },
 "nbformat": 4,
 "nbformat_minor": 2
}
