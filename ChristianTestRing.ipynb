{
 "cells": [
  {
   "cell_type": "code",
   "execution_count": 1,
   "metadata": {},
   "outputs": [
    {
     "data": {
      "text/plain": [
       "Main.JuTrack"
      ]
     },
     "metadata": {},
     "output_type": "display_data"
    }
   ],
   "source": [
    "include(\"src/JuTrack.jl\")"
   ]
  },
  {
   "cell_type": "code",
   "execution_count": 2,
   "metadata": {},
   "outputs": [
    {
     "data": {
      "text/plain": [
       "ssrf (generic function with 1 method)"
      ]
     },
     "metadata": {},
     "output_type": "display_data"
    }
   ],
   "source": [
    "using .JuTrack\n",
    "using Enzyme\n",
    "using Test\n",
    "using BenchmarkTools\n",
    "include(\"test/ssrf_ring.jl\")"
   ]
  },
  {
   "cell_type": "code",
   "execution_count": 21,
   "metadata": {},
   "outputs": [],
   "source": [
    "#CTPS = CTPS (intial value, what palce in array that derv occupies, # of unique variables finding derv of, order of calculation)"
   ]
  },
  {
   "cell_type": "code",
   "execution_count": 22,
   "metadata": {},
   "outputs": [
    {
     "data": {
      "text/plain": [
       "twiss (generic function with 1 method)"
      ]
     },
     "metadata": {},
     "output_type": "display_data"
    }
   ],
   "source": [
    "function fodo_ring(K1, RAD)\n",
    "        D1 = DRIFT(name=\"D1\", len=0.34)\n",
    "        D2 = DRIFT(name=\"D2\", len=0.59)\n",
    "        QF1 = KQUAD(name=\"QF1\", len=0.32, k1=K1, rad=RAD )\n",
    "        QD1 = KQUAD(name=\"QD1\", len=0.32, k1=-1.192160, rad=RAD  )\n",
    "        BendingAngle = pi/2\n",
    "        BD1 = SBEND(name=\"BD1\", len=0.72, angle=BendingAngle/2, e1=BendingAngle/2, e2=0.0 , rad=RAD )\n",
    "        BD2 = SBEND(name=\"BD2\", len=0.72, angle=BendingAngle/2, e1=0.0, e2=BendingAngle/2, rad=RAD  )\n",
    "\n",
    "        FODO = (QF1, D1, QD1, D1, QF1)\n",
    "        BD1_comp = (BD1)\n",
    "        BD2_comp = (BD2)\n",
    "        D2_comp = (D2)\n",
    "\n",
    "        CELL = Vector{AbstractElement}(undef, 8)\n",
    "        for i in eachindex(FODO)\n",
    "                CELL[i] = FODO[i]\n",
    "        end\n",
    "        CELL[length(FODO)+1] = BD1\n",
    "        CELL[length(FODO)+2] = D2\n",
    "        CELL[length(FODO)+3] = BD2\n",
    "                # CELL[i+172] = M5[i]\n",
    "        \n",
    "        ELIST = Vector{AbstractElement}(undef, 4*length(CELL))\n",
    "        for i in eachindex(CELL)\n",
    "                ELIST[i] = CELL[i]\n",
    "                ELIST[i+length(CELL)] = CELL[i]\n",
    "                ELIST[i+2*length(CELL)] = CELL[i]\n",
    "                ELIST[i+3*length(CELL)] = CELL[i]\n",
    "        end\n",
    "        return ELIST\n",
    "end\n",
    "\n",
    "function track(k1_in)\n",
    "        # particles = [0.001 0.0001 0.0005 0.0002 0.0 0.0; 0.001 0.0 0.0 0.0 0.0 0.0] #There is 2 particles here, and their 6 vector\n",
    "        particles = [.001 .0001 .0005 .0002 0.0 0.0] \n",
    "        beam = Beam(particles)\n",
    "        line = fodo_ring(k1_in[1],0.0)\n",
    "        linepass!(line, beam)\n",
    "        return beam.r\n",
    "end\n",
    "\n",
    "function track_TPS(k1_in)\n",
    "        line = fodo_ring(k1_in[1],0.0)\n",
    "        x = CTPS(0.001, 1, 6, 3)\n",
    "        xp = CTPS(0.0001, 2, 6, 3)\n",
    "        y = CTPS(0.0005, 3, 6, 3)\n",
    "        yp = CTPS(0.0002, 4, 6, 3)\n",
    "        delta = CTPS(0.0, 5, 6, 3)\n",
    "        z = CTPS(0.0, 6, 6, 3)\n",
    "        rin = [x, xp, y, yp, delta, z]\n",
    "        linepass_TPSA!(line, rin)\n",
    "        return rin[1].map\n",
    "end\n",
    "\n",
    "#Between track() and track_TPS(), it seems I am only able to have one particle through TPS? Create function to loop through multiple? \n",
    "\n",
    "function twiss(k1_in)\n",
    "        fodo = fodo_ring(k1_in[1],0)\n",
    "        twiss_in = EdwardsTengTwiss(betax=2.0, betay=3.0)\n",
    "        twiss_out = Twissline(twiss_in, fodo, 0.0, 1, length(fodo) )[3] #(Twiss In, ring/line, dp, order, end index)\n",
    "        return twiss_out\n",
    "end"
   ]
  },
  {
   "cell_type": "code",
   "execution_count": 23,
   "metadata": {},
   "outputs": [
    {
     "name": "stdout",
     "output_type": "stream",
     "text": [
      "[0.7112164003616027 0.2872815446630527 0.001446276155597898 -0.0015768918422392098 1.4539669177801027 0.0]\n",
      "[0.7112164003616027, 631.4075529160766, 798.0884744552595, 0.0, 0.0, 0.0, 515.4103797881224, 0.0, 0.0, 0.0, 0.0, 0.0, -533.7570083934322, 0.0, 0.0, 0.0, 0.0, -1046.8938807332509, 0.0, 0.0, 0.0, 0.0, 0.0, 0.0, 0.0, 0.0, 0.0, -671.7742907194936, 0.0, 0.0, 0.0, 0.0, 0.0, 0.0, 0.0, 0.0, 0.0, 0.0, 0.0, 0.0, 0.0, 0.0, 0.0, 0.0, 0.0, 0.0, 0.0, 0.0, -1000.8283723455415, 0.0, 0.0, 0.0, 0.0, 0.0, 0.0, 0.0, 0.0, 0.0, 0.0, 0.0, 0.0, 0.0, 0.0, -653.6506223545894, 0.0, 0.0, 0.0, 0.0, 0.0, 0.0, 0.0, 0.0, 0.0, 0.0, 0.0, 0.0, 0.0, 0.0, 0.0, 0.0, 0.0, 0.0, 0.0, -43.7583250105088]\n",
      "([-1.4801082967383716, -1341.9364632979361, -1381.7183344043742, 0.0, 0.0, 0.0, -636.719145416376, 0.0, 0.0, 0.0, 0.0, 0.0, 1999.371702668934, 0.0, 0.0, 0.0, 0.0, 2825.166006404621, 0.0, 0.0, 0.0, 0.0, 0.0, 0.0, 0.0, 0.0, 0.0, 1285.9827081016233, 0.0, 0.0, 0.0, 0.0, 0.0, 0.0, 0.0, 0.0, 0.0, 0.0, 0.0, 0.0, 0.0, 0.0, 0.0, 0.0, 0.0, 0.0, 0.0, 0.0, 303.96274109058885, 0.0, 0.0, 0.0, 0.0, 0.0, 0.0, 0.0, 0.0, 0.0, 0.0, 0.0, 0.0, 0.0, 0.0, -1482.93296454162, 0.0, 0.0, 0.0, 0.0, 0.0, 0.0, 0.0, 0.0, 0.0, 0.0, 0.0, 0.0, 0.0, 0.0, 0.0, 0.0, 0.0, 0.0, 0.0, -1042.2328006516584],)\n",
      "[-1.4801082967383705 -0.6556533110612008 0.0030586797160146 -0.0017505223775604048 -3.0926848939997442 0.0]\n"
     ]
    }
   ],
   "source": [
    "#Want to compare the output of track() and track_TPS() to see if they are the same\n",
    "#Will compare the second particle in the beam, starting at [.001 .0001 .0005 .0002 0.0 0.0]\n",
    "\n",
    "test_k1 = [-1.063770]\n",
    "println(track(test_k1))\n",
    "println(track_TPS(test_k1))\n",
    "#Shouldn't these be the same first value? --Resolved by fixing bending angle from pi/20 -> pi/2\n",
    "\n",
    "grad1 = gradient(Forward, track_TPS, test_k1)\n",
    "grad2 = autodiff(Forward, track, DuplicatedNoNeed, Duplicated(test_k1[1], 1.0))[1]  #gives first derv of r w.r.t. k1\n",
    "\n",
    "println(grad1)\n",
    "println(grad2)\n",
    "#Shouldn't these be the same first value? --Resolved by fixing bending angle from pi/20 -> pi/2\n",
    "\n"
   ]
  },
  {
   "cell_type": "code",
   "execution_count": null,
   "metadata": {},
   "outputs": [],
   "source": []
  },
  {
   "cell_type": "code",
   "execution_count": 3,
   "metadata": {},
   "outputs": [],
   "source": [
    "# x = CTPS(3.0, 1, 6, 3)\n",
    "# y = CTPS(2.0, 2, 6, 3)\n",
    "# println(y.map[1])\n",
    "\n",
    "# track(-1)\n",
    "# track_TPS(-1)\n",
    "\n",
    "# println(twiss([-1.063]))"
   ]
  },
  {
   "cell_type": "code",
   "execution_count": 18,
   "metadata": {},
   "outputs": [],
   "source": [
    "\n",
    "# println(track_TPS(-1.063770))\n",
    "# println(length(track_TPS(-1.063770)))\n",
    "# x = [-1.063770]\n",
    "# println(track_TPS(x))\n",
    "# @btime track_TPS(x) \n",
    "# @btime grad = gradient(Forward, test_track_TPS, x)"
   ]
  },
  {
   "cell_type": "code",
   "execution_count": 25,
   "metadata": {},
   "outputs": [
    {
     "name": "stdout",
     "output_type": "stream",
     "text": [
      "  0.000087 seconds (417 allocations: 49.297 KiB)\n",
      "  0.000626 seconds (1.77 k allocations: 101.719 KiB)\n"
     ]
    },
    {
     "data": {
      "text/plain": [
       "([-1.4801082967383705 -0.6556533110612008 … -3.0926848939997442 0.0],)"
      ]
     },
     "metadata": {},
     "output_type": "display_data"
    }
   ],
   "source": [
    "\n",
    "# println(track(-1.063770))\n",
    "# x = [-1.063770]\n",
    "# println(track(x))\n",
    "# @time track(x) \n",
    "# @time grad = gradient(Forward, track, x)\n",
    "# println(gradient(Forward, track, x))"
   ]
  },
  {
   "cell_type": "code",
   "execution_count": null,
   "metadata": {},
   "outputs": [],
   "source": []
  }
 ],
 "metadata": {
  "kernelspec": {
   "display_name": "Julia 1.9.2",
   "language": "julia",
   "name": "julia-1.9"
  },
  "language_info": {
   "file_extension": ".jl",
   "mimetype": "application/julia",
   "name": "julia",
   "version": "1.9.2"
  },
  "orig_nbformat": 4
 },
 "nbformat": 4,
 "nbformat_minor": 2
}
