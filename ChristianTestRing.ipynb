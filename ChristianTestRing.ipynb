{
 "cells": [
  {
   "cell_type": "code",
   "execution_count": 3,
   "metadata": {},
   "outputs": [
    {
     "name": "stderr",
     "output_type": "stream",
     "text": [
      "WARNING: replacing module JuTrack.\n"
     ]
    },
    {
     "data": {
      "text/plain": [
       "Main.JuTrack"
      ]
     },
     "metadata": {},
     "output_type": "display_data"
    }
   ],
   "source": [
    "# include(\"src/JuTrack.jl\")"
   ]
  },
  {
   "cell_type": "code",
   "execution_count": 5,
   "metadata": {},
   "outputs": [
    {
     "data": {
      "text/plain": [
       "ssrf (generic function with 1 method)"
      ]
     },
     "metadata": {},
     "output_type": "display_data"
    }
   ],
   "source": [
    "using .JuTrack\n",
    "using Enzyme\n",
    "using Test\n",
    "using BenchmarkTools\n",
    "include(\"test/ssrf_ring.jl\")"
   ]
  },
  {
   "cell_type": "code",
   "execution_count": 21,
   "metadata": {},
   "outputs": [],
   "source": [
    "#CTPS = CTPS (intial value, what palce in array that derv occupies, # of unique variables finding derv of, order of calculation)"
   ]
  },
  {
   "cell_type": "code",
   "execution_count": 64,
   "metadata": {},
   "outputs": [
    {
     "data": {
      "text/plain": [
       "test_track_TPS (generic function with 2 methods)"
      ]
     },
     "metadata": {},
     "output_type": "display_data"
    }
   ],
   "source": [
    "function fodo_ring(K1, RAD)\n",
    "        D1 = DRIFT(name=\"D1\", len=0.34)\n",
    "        D2 = DRIFT(name=\"D2\", len=0.59)\n",
    "        QF1 = KQUAD(name=\"QF1\", len=0.32, k1=K1, rad=RAD )\n",
    "        QD1 = KQUAD(name=\"QD1\", len=0.32, k1=-1.192160, rad=RAD  )\n",
    "        BendingAngle = pi/20\n",
    "        BD1 = SBEND(name=\"BD1\", len=0.72, angle=BendingAngle/2, e1=BendingAngle/2, e2=0.0 , rad=RAD )\n",
    "        BD2 = SBEND(name=\"BD2\", len=0.72, angle=BendingAngle/2, e1=0.0, e2=BendingAngle/2, rad=RAD  )\n",
    "\n",
    "        FODO = (QF1, D1, QD1, D1, QF1)\n",
    "        BD1_comp = (BD1)\n",
    "        BD2_comp = (BD2)\n",
    "        D2_comp = (D2)\n",
    "\n",
    "        CELL = Vector{AbstractElement}(undef, 8)\n",
    "        for i in eachindex(FODO)\n",
    "                CELL[i] = FODO[i]\n",
    "        end\n",
    "        CELL[length(FODO)+1] = BD1\n",
    "        CELL[length(FODO)+2] = D2\n",
    "        CELL[length(FODO)+3] = BD2\n",
    "                # CELL[i+172] = M5[i]\n",
    "        \n",
    "        ELIST = Vector{AbstractElement}(undef, 4*length(CELL))\n",
    "        for i in eachindex(CELL)\n",
    "                ELIST[i] = CELL[i]\n",
    "                ELIST[i+length(CELL)] = CELL[i]\n",
    "                ELIST[i+2*length(CELL)] = CELL[i]\n",
    "                ELIST[i+3*length(CELL)] = CELL[i]\n",
    "        end\n",
    "        return ELIST\n",
    "end\n",
    "\n",
    "function test_track(k1_in)\n",
    "        particles = [0.001 0.0001 0.0005 0.0002 0.0 0.0; 0.001 0.0 0.0 0.0 0.0 0.0]\n",
    "        beam = Beam(particles)\n",
    "        line = fodo_ring(k1_in[1],0.0)\n",
    "        linepass!(line, beam)\n",
    "        return beam.r[1,1]\n",
    "end\n",
    "\n",
    "function test_track_TPS(k1_in)\n",
    "        line = fodo_ring(k1_in[1],0.0)\n",
    "        x = CTPS(0.0, 1, 6, 3)\n",
    "        xp = CTPS(0.0, 2, 6, 3)\n",
    "        y = CTPS(0.0, 3, 6, 3)\n",
    "        yp = CTPS(0.0, 4, 6, 3)\n",
    "        delta = CTPS(0.0, 5, 6, 3)\n",
    "        z = CTPS(0.0, 6, 6, 3)\n",
    "        rin = [x, xp, y, yp, delta, z]\n",
    "        linepass_TPSA!(line, rin)\n",
    "        return rin[1].map\n",
    "end"
   ]
  },
  {
   "cell_type": "code",
   "execution_count": 65,
   "metadata": {},
   "outputs": [
    {
     "name": "stdout",
     "output_type": "stream",
     "text": [
      "[0.0, 1496.2906690330187, 1924.4239164767187, 0.0, 0.0, 0.0, 93.8640867724126, 0.0, 0.0, 0.0, 0.0, 0.0, -5567.960057661321, 0.0, 0.0, 0.0, 0.0, -7930.821865766962, 0.0, 0.0, 0.0, 0.0, 0.0, 0.0, 0.0, 0.0, 0.0, -312.43542475121046, 0.0, 0.0, 0.0, 0.0, 0.0, 0.0, 0.0, 0.0, 0.0, 0.0, 0.0, 0.0, 0.0, 0.0, 0.0, 0.0, 0.0, 0.0, 0.0, 0.0, 14330.827348699735, 0.0, 0.0, 0.0, 0.0, 0.0, 0.0, 0.0, 0.0, 0.0, 0.0, 0.0, 0.0, 0.0, 0.0, 21845.004649950602, 0.0, 0.0, 0.0, 0.0, 0.0, 0.0, 0.0, 0.0, 0.0, 0.0, 0.0, 0.0, 0.0, 0.0, 0.0, 0.0, 0.0, 0.0, 0.0, 740.2241567706814]\n"
     ]
    }
   ],
   "source": [
    "\n",
    "println(test_track_TPS(-1.063770))\n",
    "# println(length(test_track_TPS(-1.063770)))\n",
    "# x = [-1.063770]\n",
    "# println(test_track_TPS(x))\n",
    "# @btime test_track_TPS(x) \n",
    "# @btime grad = gradient(Forward, test_track_TPS, x)"
   ]
  },
  {
   "cell_type": "code",
   "execution_count": 44,
   "metadata": {},
   "outputs": [
    {
     "name": "stdout",
     "output_type": "stream",
     "text": [
      "1.0262208293145973\n",
      "1.0262208293145973\n",
      "  88.900 μs (698 allocations: 79.30 KiB)\n",
      "  502.400 μs (3126 allocations: 163.05 KiB)\n"
     ]
    },
    {
     "data": {
      "text/plain": [
       "(-2.2295173605244214,)"
      ]
     },
     "metadata": {},
     "output_type": "display_data"
    }
   ],
   "source": [
    "\n",
    "println(test_track(-1.063770))\n",
    "x = [-1.063770]\n",
    "println(test_track(x))\n",
    "@btime test_track(x) \n",
    "@btime grad = gradient(Forward, test_track, x)\n"
   ]
  },
  {
   "cell_type": "code",
   "execution_count": null,
   "metadata": {},
   "outputs": [],
   "source": []
  }
 ],
 "metadata": {
  "kernelspec": {
   "display_name": "Julia 1.9.2",
   "language": "julia",
   "name": "julia-1.9"
  },
  "language_info": {
   "file_extension": ".jl",
   "mimetype": "application/julia",
   "name": "julia",
   "version": "1.9.2"
  },
  "orig_nbformat": 4
 },
 "nbformat": 4,
 "nbformat_minor": 2
}
