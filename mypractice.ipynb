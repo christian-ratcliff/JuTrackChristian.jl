{
 "cells": [
  {
   "cell_type": "code",
   "execution_count": 1,
   "metadata": {},
   "outputs": [
    {
     "data": {
      "text/plain": [
       "Main.JuTrack"
      ]
     },
     "metadata": {},
     "output_type": "display_data"
    }
   ],
   "source": [
    "# include(\"src/JuTrack.jl\")"
   ]
  },
  {
   "cell_type": "code",
   "execution_count": 2,
   "metadata": {},
   "outputs": [
    {
     "data": {
      "text/plain": [
       "ssrf (generic function with 1 method)"
      ]
     },
     "metadata": {},
     "output_type": "display_data"
    }
   ],
   "source": [
    "using .JuTrack\n",
    "using Enzyme\n",
    "using Test\n",
    "using BenchmarkTools\n",
    "include(\"test/ssrf_ring.jl\")"
   ]
  },
  {
   "cell_type": "code",
   "execution_count": 57,
   "metadata": {},
   "outputs": [
    {
     "data": {
      "text/plain": [
       "test_tracK (generic function with 1 method)"
      ]
     },
     "metadata": {},
     "output_type": "display_data"
    }
   ],
   "source": [
    "function matrix_to_array(matrix::Matrix{Float64})\n",
    "    particles = zeros(Float64, size(matrix, 1)*size(matrix, 2))\n",
    "    for i in 1:size(matrix, 1)\n",
    "        for j in 1:size(matrix, 2)\n",
    "            particles[(i-1)*size(matrix, 2)+j] = matrix[i, j]\n",
    "        end\n",
    "    end\n",
    "    return particles\n",
    "end\n",
    "\n",
    "function test_track_jinyu(xx)\n",
    "        r = zeros(Float64, 100000, 6)\n",
    "        r[:, 2] .= 0.001\n",
    "        beam = Beam(r)\n",
    "        D1 = DRIFT(len=0.5)\n",
    "        D2 = DRIFT(len=0.5)\n",
    "        Q1 = KQUAD(k1=xx, len=0.5)\n",
    "        Q2 = KQUAD(k1=0.5, len=0.5)\n",
    "        FODO = [Q1, D1, Q2, D2]\n",
    "        # line = ssrf(xx)\n",
    "        plinepass!(FODO, beam)\n",
    "        return beam.r[1,1]\n",
    "    end\n",
    "\n",
    "function test_track_jinyu_ssrf(xx)\n",
    "    r = zeros(Float64, 100000, 6)\n",
    "    r[:, 2] .= 0.001\n",
    "    beam = Beam(r)\n",
    "    D1 = DRIFT(len=0.5)\n",
    "    D2 = DRIFT(len=0.5)\n",
    "    Q1 = KQUAD(k1=xx, len=0.5)\n",
    "    Q2 = KQUAD(k1=0.5, len=0.5)\n",
    "    # FODO = [Q1, D1, Q2, D2]\n",
    "    line = ssrf(xx)\n",
    "    plinepass!(line, beam)\n",
    "    return beam.r[1,1]\n",
    "end\n",
    "\n",
    "\n",
    "\n",
    "\n",
    "# function test_tracK(xx)\n",
    "#     r = zeros(Float64, 10, 6)\n",
    "#     r[:, 2] .= 0.001\n",
    "#     beam = Beam(r)\n",
    "#     D1 = DRIFT(name=\"D1\", len=0.34)\n",
    "#     D2 = DRIFT(name=\"D2\", len=0.59)\n",
    "#     QF1 = KQUAD(name=\"QF1\", len=0.32, k1=xx )\n",
    "#     QD1 = KQUAD(name=\"QD1\", len=0.32, k1=-1.192160 )\n",
    "#     BendingAngle = pi/20\n",
    "#     BD1 = SBEND(name=\"BD1\", len=0.72, angle=BendingAngle/2, e1=BendingAngle/2, e2=0.0 )\n",
    "#     BD2 = SBEND(name=\"BD2\", len=0.72, angle=BendingAngle/2, e1=0.0, e2=BendingAngle/2 )\n",
    "\n",
    "#     # FODO = (QF1, D1, QD1, D1, QF1)\n",
    "#     # BD1_comp = (BD1)\n",
    "#     # BD2_comp = (BD2)\n",
    "#     # D2_comp = (D2)\n",
    "#     CELL = (BD1, QF1, D1, QD1, D1, QF1, BD2, D2)\n",
    "#     ring = (CELL, CELL, CELL, CELL, CELL)\n",
    "#     plinepass!(ring, beam)\n",
    "#     return beam.r[1,1]\n",
    "# end\n",
    "\n",
    "\n",
    "\n",
    "\n",
    "\n"
   ]
  },
  {
   "cell_type": "code",
   "execution_count": 64,
   "metadata": {},
   "outputs": [
    {
     "data": {
      "text/plain": [
       "test_track_10000 (generic function with 1 method)"
      ]
     },
     "metadata": {},
     "output_type": "display_data"
    }
   ],
   "source": [
    "function test_track_100(xx)\n",
    "    r = zeros(Float64, 100, 6)\n",
    "    r[:, 2] .= 0.001\n",
    "    beam = Beam(r)\n",
    "    D1 = DRIFT(name=\"D1\", len=0.34)\n",
    "    D2 = DRIFT(name=\"D2\", len=0.59)\n",
    "    QF1 = KQUAD(name=\"QF1\", len=0.32, k1=xx )\n",
    "    QD1 = KQUAD(name=\"QD1\", len=0.32, k1=-1.192160 )\n",
    "    BendingAngle = pi/20\n",
    "    BD1 = SBEND(name=\"BD1\", len=0.72, angle=BendingAngle/2, e1=BendingAngle/2, e2=0.0 )\n",
    "    BD2 = SBEND(name=\"BD2\", len=0.72, angle=BendingAngle/2, e1=0.0, e2=BendingAngle/2 )\n",
    "\n",
    "    FODO = (QF1, D1, QD1, D1, QF1)\n",
    "    BD1_comp = (BD1)\n",
    "    BD2_comp = (BD2)\n",
    "    D2_comp = (D2)\n",
    "\n",
    "    CELL = Vector{AbstractElement}(undef, 8)\n",
    "    for i in eachindex(FODO)\n",
    "            CELL[i] = FODO[i]\n",
    "    end\n",
    "    CELL[length(FODO)+1] = BD1\n",
    "    CELL[length(FODO)+2] = D2\n",
    "    CELL[length(FODO)+3] = BD2\n",
    "            # CELL[i+172] = M5[i]\n",
    "    \n",
    "    ELIST = Vector{AbstractElement}(undef, 4*length(CELL))\n",
    "    for i in eachindex(CELL)\n",
    "            ELIST[i] = CELL[i]\n",
    "            ELIST[i+length(CELL)] = CELL[i]\n",
    "            ELIST[i+2*length(CELL)] = CELL[i]\n",
    "            ELIST[i+3*length(CELL)] = CELL[i]\n",
    "    end\n",
    "\n",
    "    \n",
    "    plinepass!(ELIST, beam)\n",
    "    return beam.r[1,1]\n",
    "end\n",
    "\n",
    "function test_track_10000(xx)\n",
    "        r = zeros(Float64, 100000, 6)\n",
    "        r[:, 2] .= 0.001\n",
    "        beam = Beam(r)\n",
    "        D1 = DRIFT(name=\"D1\", len=0.34)\n",
    "        D2 = DRIFT(name=\"D2\", len=0.59)\n",
    "        QF1 = KQUAD(name=\"QF1\", len=0.32, k1=xx )\n",
    "        QD1 = KQUAD(name=\"QD1\", len=0.32, k1=-1.192160 )\n",
    "        BendingAngle = pi/20\n",
    "        BD1 = SBEND(name=\"BD1\", len=0.72, angle=BendingAngle/2, e1=BendingAngle/2, e2=0.0 )\n",
    "        BD2 = SBEND(name=\"BD2\", len=0.72, angle=BendingAngle/2, e1=0.0, e2=BendingAngle/2 )\n",
    "\n",
    "        FODO = (QF1, D1, QD1, D1, QF1)\n",
    "        BD1_comp = (BD1)\n",
    "        BD2_comp = (BD2)\n",
    "        D2_comp = (D2)\n",
    "\n",
    "        CELL = Vector{AbstractElement}(undef, 8)\n",
    "        for i in eachindex(FODO)\n",
    "                CELL[i] = FODO[i]\n",
    "        end\n",
    "        CELL[length(FODO)+1] = BD1\n",
    "        CELL[length(FODO)+2] = D2\n",
    "        CELL[length(FODO)+3] = BD2\n",
    "                # CELL[i+172] = M5[i]\n",
    "\n",
    "        ELIST = Vector{AbstractElement}(undef, 4*length(CELL))\n",
    "        for i in eachindex(CELL)\n",
    "                ELIST[i] = CELL[i]\n",
    "                ELIST[i+length(CELL)] = CELL[i]\n",
    "                ELIST[i+2*length(CELL)] = CELL[i]\n",
    "                ELIST[i+3*length(CELL)] = CELL[i]\n",
    "        end\n",
    "\n",
    "\n",
    "        plinepass!(ELIST, beam)\n",
    "        return beam.r[1,1]\n",
    "end"
   ]
  },
  {
   "cell_type": "code",
   "execution_count": 60,
   "metadata": {},
   "outputs": [
    {
     "name": "stdout",
     "output_type": "stream",
     "text": [
      "  0.579329 seconds (4.00 M allocations: 421.153 MiB, 15.24% gc time)"
     ]
    },
    {
     "name": "stdout",
     "output_type": "stream",
     "text": [
      "\n"
     ]
    },
    {
     "name": "stdout",
     "output_type": "stream",
     "text": [
      "0.0019785599376999294\n"
     ]
    },
    {
     "name": "stdout",
     "output_type": "stream",
     "text": [
      "  1.206599 seconds (8.80 M allocations: 548.576 MiB, 9.31% gc time)\n"
     ]
    },
    {
     "data": {
      "text/plain": [
       "(0.0019785599376999294, -0.0001959471099019049)"
      ]
     },
     "metadata": {},
     "output_type": "display_data"
    }
   ],
   "source": [
    "@time test_track_jinyu(-1.063770)\n",
    "println(test_track_jinyu(-1.063770))\n",
    "@time grad_jinyu = autodiff(Forward, test_track_jinyu,  Duplicated, Duplicated(-1.063770, 1.0))"
   ]
  },
  {
   "cell_type": "code",
   "execution_count": 61,
   "metadata": {},
   "outputs": [
    {
     "name": "stdout",
     "output_type": "stream",
     "text": [
      "123.376681 seconds (860.01 M allocations: 84.599 GiB, 13.74% gc time)"
     ]
    },
    {
     "name": "stdout",
     "output_type": "stream",
     "text": [
      "\n"
     ]
    },
    {
     "name": "stdout",
     "output_type": "stream",
     "text": [
      "0.009711523790674218"
     ]
    },
    {
     "name": "stdout",
     "output_type": "stream",
     "text": [
      "\n"
     ]
    },
    {
     "name": "stdout",
     "output_type": "stream",
     "text": [
      "  1.226789 seconds (8.80 M allocations: 548.579 MiB, 7.90% gc time)\n"
     ]
    },
    {
     "data": {
      "text/plain": [
       "(0.0019785599376999294, -0.0001959471099019049)"
      ]
     },
     "metadata": {},
     "output_type": "display_data"
    }
   ],
   "source": [
    "@time test_track_jinyu_ssrf(-1.063770)\n",
    "println(test_track_jinyu_ssrf(-1.063770))\n",
    "@time grad_jinyu_ssrf = autodiff(Forward, test_track_jinyu,  Duplicated, Duplicated(-1.063770, 1.0))"
   ]
  },
  {
   "cell_type": "code",
   "execution_count": 66,
   "metadata": {},
   "outputs": [
    {
     "name": "stdout",
     "output_type": "stream",
     "text": [
      "  0.007595 seconds (65.03 k allocations: 3.917 MiB)\n"
     ]
    },
    {
     "data": {
      "text/plain": [
       "(1.3017368804768954, -3.1168102914132185)"
      ]
     },
     "metadata": {},
     "output_type": "display_data"
    }
   ],
   "source": [
    "# @time test_track_100(-1.063770)\n",
    "# println(test_track_100(-1.063770))\n",
    "@time grad_100 = autodiff(Forward, test_track_100,  Duplicated, Duplicated(-1.063770, 1.0))\n"
   ]
  },
  {
   "cell_type": "code",
   "execution_count": 65,
   "metadata": {},
   "outputs": [
    {
     "name": "stdout",
     "output_type": "stream",
     "text": [
      "  4.514862 seconds (29.50 M allocations: 2.961 GiB, 13.06% gc time)"
     ]
    },
    {
     "name": "stdout",
     "output_type": "stream",
     "text": [
      "\n"
     ]
    },
    {
     "name": "stdout",
     "output_type": "stream",
     "text": [
      "1.3017368804768954"
     ]
    },
    {
     "name": "stdout",
     "output_type": "stream",
     "text": [
      "\n"
     ]
    },
    {
     "name": "stdout",
     "output_type": "stream",
     "text": [
      "  9.083030 seconds (64.50 M allocations: 3.760 GiB, 8.18% gc time)\n"
     ]
    },
    {
     "data": {
      "text/plain": [
       "(1.3017368804768954, -3.1168102914132185)"
      ]
     },
     "metadata": {},
     "output_type": "display_data"
    }
   ],
   "source": [
    "@time test_track_10000(-1.063770)\n",
    "println(test_track_10000(-1.063770))\n",
    "@time grad_10000 = autodiff(Forward, test_track_10000,  Duplicated, Duplicated(-1.063770, 1.0))"
   ]
  },
  {
   "cell_type": "code",
   "execution_count": null,
   "metadata": {},
   "outputs": [],
   "source": []
  }
 ],
 "metadata": {
  "kernelspec": {
   "display_name": "Julia 1.9.2",
   "language": "julia",
   "name": "julia-1.9"
  },
  "language_info": {
   "file_extension": ".jl",
   "mimetype": "application/julia",
   "name": "julia",
   "version": "1.9.2"
  },
  "orig_nbformat": 4
 },
 "nbformat": 4,
 "nbformat_minor": 2
}
