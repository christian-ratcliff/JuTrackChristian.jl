{
 "cells": [
  {
   "cell_type": "code",
   "execution_count": 3,
   "metadata": {},
   "outputs": [
    {
     "data": {
      "text/plain": [
       "Main.JuTrack"
      ]
     },
     "metadata": {},
     "output_type": "display_data"
    }
   ],
   "source": [
    "include(\"../src/JuTrack.jl\")"
   ]
  },
  {
   "cell_type": "code",
   "execution_count": 4,
   "metadata": {},
   "outputs": [],
   "source": [
    "using .JuTrack\n",
    "using Enzyme\n",
    "using Test\n",
    "using BenchmarkTools"
   ]
  },
  {
   "cell_type": "code",
   "execution_count": 5,
   "metadata": {},
   "outputs": [
    {
     "data": {
      "text/plain": [
       "8"
      ]
     },
     "metadata": {},
     "output_type": "display_data"
    }
   ],
   "source": [
    "Threads.nthreads()"
   ]
  },
  {
   "cell_type": "code",
   "execution_count": 2,
   "metadata": {},
   "outputs": [
    {
     "data": {
      "text/plain": [
       "sbend_track (generic function with 1 method)"
      ]
     },
     "metadata": {},
     "output_type": "display_data"
    }
   ],
   "source": [
    "function fodo_ring(K1, RAD)\n",
    "        D1 = DRIFT(name=\"D1\", len=0.34)\n",
    "        D2 = DRIFT(name=\"D2\", len=0.59)\n",
    "        QF1 = KQUAD(name=\"QF1\", len=0.32, k1=K1, rad=RAD )\n",
    "        QD1 = KQUAD(name=\"QD1\", len=0.32, k1=-1.192160, rad=RAD  )\n",
    "        BendingAngle = pi/2\n",
    "        BD1 = SBEND(name=\"BD1\", len=0.72, angle=BendingAngle/2, e1=BendingAngle/2, e2=0.0 , rad=RAD )\n",
    "        BD2 = SBEND(name=\"BD2\", len=0.72, angle=BendingAngle/2, e1=0.0, e2=BendingAngle/2, rad=RAD  )\n",
    "\n",
    "        FODO = (QF1, D1, QD1, D1, QF1)\n",
    "        BD1_comp = (BD1)\n",
    "        BD2_comp = (BD2)\n",
    "        D2_comp = (D2)\n",
    "\n",
    "        CELL = Vector{AbstractElement}(undef, 8)\n",
    "        for i in eachindex(FODO)\n",
    "                CELL[i] = FODO[i]\n",
    "        end\n",
    "        CELL[length(FODO)+1] = BD1\n",
    "        CELL[length(FODO)+2] = D2\n",
    "        CELL[length(FODO)+3] = BD2\n",
    "                # CELL[i+172] = M5[i]\n",
    "        \n",
    "        ELIST = Vector{AbstractElement}(undef, 4*length(CELL))\n",
    "        for i in eachindex(CELL)\n",
    "                ELIST[i] = CELL[i]\n",
    "                ELIST[i+length(CELL)] = CELL[i]\n",
    "                ELIST[i+2*length(CELL)] = CELL[i]\n",
    "                ELIST[i+3*length(CELL)] = CELL[i]\n",
    "        end\n",
    "        return ELIST\n",
    "end\n",
    "\n",
    "function create_sbend(BendingAngle)\n",
    "        SBD = SBEND(name=\"BD\", len=0.72, angle=BendingAngle/2, e1=BendingAngle/2, e2=0.0 , rad=0.0)\n",
    "        return [SBD]\n",
    "end        \n",
    "\n",
    "function sbend_track_mthread(BendingAngle)\n",
    "        particles = [.001 .0001 .0005 .0002 0.0 0.0] \n",
    "        beam = Beam(particles)\n",
    "        line = create_sbend(BendingAngle)\n",
    "        plinepass!(line, beam)\n",
    "        return beam.r\n",
    "end\n",
    "\n",
    "function sbend_track(BendingAngle)\n",
    "        particles = [.001 .0001 .0005 .0002 0.0 0.0] \n",
    "        beam = Beam(particles)\n",
    "        line = create_sbend(BendingAngle)\n",
    "        linepass!(line, beam)\n",
    "        return beam.r\n",
    "end\n"
   ]
  },
  {
   "cell_type": "markdown",
   "metadata": {},
   "source": [
    "One particle Tests:"
   ]
  },
  {
   "cell_type": "code",
   "execution_count": 109,
   "metadata": {},
   "outputs": [
    {
     "name": "stdout",
     "output_type": "stream",
     "text": [
      "Multithreading matches single thread tracking\n",
      "Multithreading matches single thread AD\n",
      "\n",
      "\n",
      "Single Thread Time: 3.01e-5\n",
      "Multi Thread Time: 0.0023\n",
      "Single thread is faster by 0.0022699 seconds\n",
      "It seems that the multithread has a bit of variablity in the time it takes to run. Sometimes it is on the same order as single thread, sometimes it is 2-3 orders of magnitude slower\n",
      "Single Thread Memory: 4560 bytes\n",
      "Multi Thread Memory: 11728 bytes\n",
      "Single thread is faster by 0.0022699 seconds\n",
      "(value = [0.0014790373312097663 7.071499198396235e-5 0.0002513009183012763 -0.0003454153912482279 0.0010270873405908145 0.0], time = 0.0023, bytes = 11728, gctime = 0.0, gcstats = Base.GC_Diff(11728, 0, 0, 88, 0, 0, 0, 0, 0))\n"
     ]
    }
   ],
   "source": [
    "# In bend.jl I changed the BendSymplecticPass_P! functions to reflect the multithreading by commenting out the for loop and adding the @threads macro.\n",
    "\n",
    "bend_angle = pi/2\n",
    "if sbend_track(bend_angle) == sbend_track_mthread(bend_angle)\n",
    "        println(\"Multithreading matches single thread tracking\")\n",
    "else\n",
    "        println(\"Multithreading DOES NOT match single thread tracking\")\n",
    "end\n",
    "\n",
    "\n",
    "grad1 = autodiff(Forward, sbend_track, DuplicatedNoNeed, Duplicated(bend_angle, 1.0))\n",
    "grad2 = autodiff(Forward, sbend_track_mthread, DuplicatedNoNeed, Duplicated(bend_angle, 1.0))\n",
    "\n",
    "if grad1 == grad2\n",
    "        println(\"Multithreading matches single thread AD\")\n",
    "else\n",
    "        println(\"Multithreading DOES NOT match single thread AD\")\n",
    "end\n",
    "println(\"\")\n",
    "println(\"\")\n",
    "# Benchmarking\n",
    "\n",
    "\n",
    "time_track = @timed sbend_track(bend_angle)\n",
    "time_track_mthread = @timed sbend_track_mthread(bend_angle)\n",
    "println(\"Single Thread Time: \", time_track[2])\n",
    "println(\"Multi Thread Time: \", time_track_mthread[2])\n",
    "if time_track[2] < time_track_mthread[2]\n",
    "        println(\"Single thread is faster by \" * string(time_track_mthread[2] - time_track[2]) * \" seconds\")\n",
    "else\n",
    "        println(\"Multithread is faster by \" * string(time_track[2] - time_track_mthread[2]) * \" seconds\")\n",
    "end\n",
    "\n",
    "println(\"It seems that the multithread has a bit of variablity in the time it takes to run. Sometimes it is on the same order as single thread, sometimes it is 2-3 orders of magnitude slower\")\n",
    "\n",
    "println(\"Single Thread Memory: \", time_track[3] , \" bytes\")\n",
    "println(\"Multi Thread Memory: \", time_track_mthread[3], \" bytes\")\n",
    "if time_track[2] < time_track_mthread[2]\n",
    "        println(\"Single thread is faster by \" * string(time_track_mthread[2] - time_track[2]) * \" seconds\")\n",
    "else\n",
    "        println(\"Multithread is faster by \" * string(time_track[2] - time_track_mthread[2]) * \" seconds\")\n",
    "end\n",
    "\n",
    "println(time_track_mthread)\n",
    "\n",
    "\n",
    "# println(\"time_sbend_track: \", time_track[3])\n",
    "# println(\"\")\n",
    "# println(\"\")\n",
    "# println(\"Multi Thread\")\n",
    "# @timed sbend_track_mthread(bend_angle)\n",
    "\n",
    "# @timev sbend_track(bend_angle)\n",
    "# @timev sbend_track_mthread(bend_angle)\n",
    "# println(time_track[2], \" \", time_track_mthread[2], \" \", time_track[2] - time_track_mthread[2])\n",
    "# println(time_track[2], \" \", time_track_mthread[2])\n",
    "\n",
    "\n",
    "\n"
   ]
  },
  {
   "cell_type": "code",
   "execution_count": 97,
   "metadata": {},
   "outputs": [
    {
     "name": "stdout",
     "output_type": "stream",
     "text": [
      "Trial(3.125 μs)\n"
     ]
    },
    {
     "data": {
      "text/plain": [
       "BenchmarkTools.Trial: 5142 samples with 1 evaluation.\n",
       " Range \u001b[90m(\u001b[39m\u001b[36m\u001b[1mmin\u001b[22m\u001b[39m … \u001b[35mmax\u001b[39m\u001b[90m):  \u001b[39m\u001b[36m\u001b[1m  5.800 μs\u001b[22m\u001b[39m … \u001b[35m31.680 ms\u001b[39m  \u001b[90m┊\u001b[39m GC \u001b[90m(\u001b[39mmin … max\u001b[90m): \u001b[39m0.00% … 0.00%\n",
       " Time  \u001b[90m(\u001b[39m\u001b[34m\u001b[1mmedian\u001b[22m\u001b[39m\u001b[90m):     \u001b[39m\u001b[34m\u001b[1m 15.900 μs              \u001b[22m\u001b[39m\u001b[90m┊\u001b[39m GC \u001b[90m(\u001b[39mmedian\u001b[90m):    \u001b[39m0.00%\n",
       " Time  \u001b[90m(\u001b[39m\u001b[32m\u001b[1mmean\u001b[22m\u001b[39m ± \u001b[32mσ\u001b[39m\u001b[90m):   \u001b[39m\u001b[32m\u001b[1m967.205 μs\u001b[22m\u001b[39m ± \u001b[32m 1.190 ms\u001b[39m  \u001b[90m┊\u001b[39m GC \u001b[90m(\u001b[39mmean ± σ\u001b[90m):  \u001b[39m0.06% ± 0.88%\n",
       "\n",
       "  \u001b[34m█\u001b[39m\u001b[39m \u001b[39m \u001b[39m \u001b[39m \u001b[39m \u001b[39m \u001b[39m \u001b[39m \u001b[39m \u001b[39m \u001b[39m \u001b[39m \u001b[39m \u001b[39m \u001b[39m \u001b[39m \u001b[32m \u001b[39m\u001b[39m \u001b[39m \u001b[39m \u001b[39m \u001b[39m \u001b[39m \u001b[39m \u001b[39m \u001b[39m \u001b[39m▂\u001b[39m▄\u001b[39m▅\u001b[39m▃\u001b[39m▄\u001b[39m▂\u001b[39m▃\u001b[39m▂\u001b[39m▁\u001b[39m▁\u001b[39m▁\u001b[39m▁\u001b[39m▁\u001b[39m▁\u001b[39m▁\u001b[39m▁\u001b[39m \u001b[39m \u001b[39m \u001b[39m \u001b[39m \u001b[39m \u001b[39m \u001b[39m \u001b[39m \u001b[39m \u001b[39m \u001b[39m \u001b[39m \u001b[39m \u001b[39m \u001b[39m \u001b[39m \u001b[39m \u001b[39m▁\n",
       "  \u001b[34m█\u001b[39m\u001b[39m▅\u001b[39m▃\u001b[39m▄\u001b[39m▄\u001b[39m▁\u001b[39m▁\u001b[39m▃\u001b[39m▁\u001b[39m▃\u001b[39m▃\u001b[39m▁\u001b[39m▁\u001b[39m▃\u001b[39m▁\u001b[39m▁\u001b[39m▁\u001b[32m▁\u001b[39m\u001b[39m▁\u001b[39m▁\u001b[39m▁\u001b[39m▁\u001b[39m▁\u001b[39m▁\u001b[39m▁\u001b[39m▃\u001b[39m▆\u001b[39m█\u001b[39m█\u001b[39m█\u001b[39m█\u001b[39m█\u001b[39m█\u001b[39m█\u001b[39m█\u001b[39m█\u001b[39m█\u001b[39m█\u001b[39m█\u001b[39m█\u001b[39m█\u001b[39m█\u001b[39m█\u001b[39m█\u001b[39m█\u001b[39m█\u001b[39m█\u001b[39m█\u001b[39m█\u001b[39m▇\u001b[39m▇\u001b[39m▇\u001b[39m▇\u001b[39m▇\u001b[39m▆\u001b[39m▅\u001b[39m▄\u001b[39m▅\u001b[39m▆\u001b[39m▆\u001b[39m \u001b[39m█\n",
       "  5.8 μs\u001b[90m        \u001b[39m\u001b[90mHistogram: \u001b[39m\u001b[90m\u001b[1mlog(\u001b[22m\u001b[39m\u001b[90mfrequency\u001b[39m\u001b[90m\u001b[1m)\u001b[22m\u001b[39m\u001b[90m by time\u001b[39m      3.39 ms \u001b[0m\u001b[1m<\u001b[22m\n",
       "\n",
       " Memory estimate\u001b[90m: \u001b[39m\u001b[33m11.20 KiB\u001b[39m, allocs estimate\u001b[90m: \u001b[39m\u001b[33m80\u001b[39m."
      ]
     },
     "metadata": {},
     "output_type": "display_data"
    }
   ],
   "source": [
    "# println(@benchmark sbend_track(bend_angle))\n",
    "# @benchmark sbend_track_mthread(bend_angle)"
   ]
  },
  {
   "cell_type": "code",
   "execution_count": 106,
   "metadata": {},
   "outputs": [
    {
     "name": "stdout",
     "output_type": "stream",
     "text": [
      "  0.000034 seconds (36 allocations: 4.453 KiB)\n"
     ]
    },
    {
     "data": {
      "text/plain": [
       "1×6 Matrix{Float64}:\n",
       " 0.00147904  7.0715e-5  0.000251301  -0.000345415  0.00102709  0.0"
      ]
     },
     "metadata": {},
     "output_type": "display_data"
    }
   ],
   "source": [
    "@time sbend_track(bend_angle)"
   ]
  },
  {
   "cell_type": "code",
   "execution_count": null,
   "metadata": {},
   "outputs": [],
   "source": []
  }
 ],
 "metadata": {
  "kernelspec": {
   "display_name": "Julia 1.9.2",
   "language": "julia",
   "name": "julia-1.9"
  },
  "language_info": {
   "file_extension": ".jl",
   "mimetype": "application/julia",
   "name": "julia",
   "version": "1.9.2"
  },
  "orig_nbformat": 4
 },
 "nbformat": 4,
 "nbformat_minor": 2
}
