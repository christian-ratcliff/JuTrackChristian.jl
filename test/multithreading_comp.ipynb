{
 "cells": [
  {
   "cell_type": "code",
   "execution_count": 4,
   "metadata": {},
   "outputs": [
    {
     "name": "stderr",
     "output_type": "stream",
     "text": [
      "WARNING: replacing module JuTrack.\n"
     ]
    },
    {
     "data": {
      "text/plain": [
       "Main.JuTrack"
      ]
     },
     "metadata": {},
     "output_type": "display_data"
    }
   ],
   "source": [
    "include(\"../src/JuTrack.jl\")"
   ]
  },
  {
   "cell_type": "code",
   "execution_count": 5,
   "metadata": {},
   "outputs": [],
   "source": [
    "using .JuTrack\n",
    "using Enzyme\n",
    "using Test\n",
    "using BenchmarkTools"
   ]
  },
  {
   "cell_type": "code",
   "execution_count": 1,
   "metadata": {},
   "outputs": [
    {
     "data": {
      "text/plain": [
       "64"
      ]
     },
     "metadata": {},
     "output_type": "display_data"
    }
   ],
   "source": [
    "Threads.nthreads()"
   ]
  },
  {
   "cell_type": "code",
   "execution_count": 31,
   "metadata": {},
   "outputs": [
    {
     "data": {
      "text/plain": [
       "generate_report (generic function with 1 method)"
      ]
     },
     "metadata": {},
     "output_type": "display_data"
    }
   ],
   "source": [
    "# function fodo_ring(K1, RAD)\n",
    "#         D1 = DRIFT(name=\"D1\", len=0.34)\n",
    "#         D2 = DRIFT(name=\"D2\", len=0.59)\n",
    "#         QF1 = KQUAD(name=\"QF1\", len=0.32, k1=K1, rad=RAD )\n",
    "#         QD1 = KQUAD(name=\"QD1\", len=0.32, k1=-1.192160, rad=RAD  )\n",
    "#         BendingAngle = pi/2\n",
    "#         BD1 = SBEND(name=\"BD1\", len=0.72, angle=BendingAngle/2, e1=BendingAngle/2, e2=0.0 , rad=RAD )\n",
    "#         BD2 = SBEND(name=\"BD2\", len=0.72, angle=BendingAngle/2, e1=0.0, e2=BendingAngle/2, rad=RAD  )\n",
    "\n",
    "#         FODO = (QF1, D1, QD1, D1, QF1)\n",
    "#         BD1_comp = (BD1)\n",
    "#         BD2_comp = (BD2)\n",
    "#         D2_comp = (D2)\n",
    "\n",
    "#         CELL = Vector{AbstractElement}(undef, 8)\n",
    "#         for i in eachindex(FODO)\n",
    "#                 CELL[i] = FODO[i]\n",
    "#         end\n",
    "#         CELL[length(FODO)+1] = BD1\n",
    "#         CELL[length(FODO)+2] = D2\n",
    "#         CELL[length(FODO)+3] = BD2\n",
    "#                 # CELL[i+172] = M5[i]\n",
    "        \n",
    "#         ELIST = Vector{AbstractElement}(undef, 4*length(CELL))\n",
    "#         for i in eachindex(CELL)\n",
    "#                 ELIST[i] = CELL[i]\n",
    "#                 ELIST[i+length(CELL)] = CELL[i]\n",
    "#                 ELIST[i+2*length(CELL)] = CELL[i]\n",
    "#                 ELIST[i+3*length(CELL)] = CELL[i]\n",
    "#         end\n",
    "#         return ELIST\n",
    "# end\n",
    "\n",
    "function create_sbend(BendingAngle)\n",
    "        SBD = SBEND(name=\"BD\", len=0.72, angle=BendingAngle/2, e1=BendingAngle/2, e2=0.0 , rad=0.0)\n",
    "        return [SBD]\n",
    "end        \n",
    "\n",
    "function sbend_track_mthread(BendingAngle)\n",
    "        particles = [.001 .0001 .0005 .0002 0.0 0.0] \n",
    "        beam = Beam(particles)\n",
    "        line = create_sbend(BendingAngle)\n",
    "        plinepass!(line, beam)\n",
    "        return beam.r\n",
    "end\n",
    "\n",
    "function sbend_track(BendingAngle)\n",
    "        particles = [.001 .0001 .0005 .0002 0.0 0.0] \n",
    "        beam = Beam(particles)\n",
    "        line = create_sbend(BendingAngle)\n",
    "        linepass!(line, beam)\n",
    "        return beam.r\n",
    "end\n",
    "\n",
    "\n",
    "function generate_report(time_track, time_track_mthread, time_ad, time_ad_mthread)\n",
    "        \n",
    "        if time_track[1] == time_track_mthread[1]\n",
    "                println(\"Multithreading matches single thread tracking\")\n",
    "        else\n",
    "                println(\"Multithreading DOES NOT match single thread tracking\")\n",
    "        end\n",
    "        \n",
    "        \n",
    "        # grad1 = autodiff(Forward, sbend_track, DuplicatedNoNeed, Duplicated(bend_angle, 1.0))\n",
    "        # grad2 = autodiff(Forward, sbend_track_mthread, DuplicatedNoNeed, Duplicated(bend_angle, 1.0))\n",
    "        \n",
    "        if time_ad[1] == time_ad_mthread[1]\n",
    "                println(\"Multithreading matches single thread AD\")\n",
    "        else\n",
    "                println(\"Multithreading DOES NOT match single thread AD\")\n",
    "        end\n",
    "        println(\"\")\n",
    "        println(\"\")\n",
    "        \n",
    "        \n",
    "        \n",
    "        \n",
    "        # Benchmarking\n",
    "        \n",
    "        \n",
    "        #Tracking\n",
    "        println(\"Tracking\")\n",
    "        println(\"\")\n",
    "        println(\"Single Thread Tracking Time: \", time_track[2])\n",
    "        println(\"Multi Thread Tracking Time: \", time_track_mthread[2])\n",
    "        if time_track[2] < time_track_mthread[2]\n",
    "                println(\"Single thread tracking is faster by \" * string(time_track_mthread[2] - time_track[2]) * \" seconds\")\n",
    "        else\n",
    "                println(\"Multithread tracking is faster by \" * string(time_track[2] - time_track_mthread[2]) * \" seconds\")\n",
    "        end\n",
    "        \n",
    "        println(\"\")\n",
    "        println(\"Single Thread tracking Memory: \", time_track[3] , \" bytes\")\n",
    "        println(\"Multi Thread tracking Memory: \", time_track_mthread[3], \" bytes\")\n",
    "        if time_track[2] < time_track_mthread[2]\n",
    "                println(\"Single thread tracking uses less memory by \" * string(time_track_mthread[3] - time_track[3]) * \" bytes\")\n",
    "        else\n",
    "                println(\"Multithread tracking uses less memory faster by \" * string(time_track[3] - time_track_mthread[3]) * \" bytes\")\n",
    "        end\n",
    "        \n",
    "        # AD\n",
    "        println(\"AD\")\n",
    "        println(\"\")\n",
    "        println(\"Single Thread AD Time: \", time_ad[2])\n",
    "        println(\"Multi Thread AD Time: \", time_ad_mthread[2])\n",
    "        if time_ad[2] < time_ad_mthread[2]\n",
    "                println(\"Single thread tracking is faster by \" * string(time_ad_mthread[2] - time_ad[2]) * \" seconds\")\n",
    "        else\n",
    "                println(\"Multithread tracking is faster by \" * string(time_ad[2] - time_ad_mthread[2]) * \" seconds\")\n",
    "        end\n",
    "        \n",
    "        println(\"\")\n",
    "        println(\"Single Thread AD Memory: \", time_ad[3] , \" bytes\")\n",
    "        println(\"Multi Thread AD Memory: \", time_ad_mthread[3], \" bytes\")\n",
    "        if time_ad[2] < time_ad_mthread[2]\n",
    "                println(\"Single thread AD uses less memory by \" * string(time_ad_mthread[3] - time_ad[3]) * \" bytes\")\n",
    "        else\n",
    "                println(\"Multithread AD uses less memory faster by \" * string(time_ad[3] - time_ad_mthread[3]) * \" bytes\")\n",
    "        end\n",
    "        return\n",
    "end"
   ]
  },
  {
   "cell_type": "markdown",
   "metadata": {},
   "source": [
    "One particle Tests:"
   ]
  },
  {
   "cell_type": "code",
   "execution_count": 33,
   "metadata": {},
   "outputs": [
    {
     "name": "stdout",
     "output_type": "stream",
     "text": [
      "Multithreading matches single thread tracking\n",
      "Multithreading matches single thread AD\n",
      "\n",
      "\n",
      "Tracking\n",
      "\n",
      "Single Thread Tracking Time: 7.9199e-5\n",
      "Multi Thread Tracking Time: 0.033045665\n",
      "Single thread tracking is faster by 0.032966466 seconds\n",
      "\n",
      "Single Thread tracking Memory: 4560 bytes\n",
      "Multi Thread tracking Memory: 54928 bytes\n",
      "Single thread tracking uses less memory by 50368 bytes\n",
      "AD\n",
      "\n",
      "Single Thread AD Time: 5.0525e-5\n",
      "Multi Thread AD Time: 0.010936073\n",
      "Single thread tracking is faster by 0.010885548 seconds\n",
      "\n",
      "Single Thread AD Memory: 9600 bytes\n",
      "Multi Thread AD Memory: 78208 bytes\n",
      "Single thread AD uses less memory by 68608 bytes\n"
     ]
    }
   ],
   "source": [
    "bend_angle = pi/2\n",
    "\n",
    "time_track = @timed sbend_track(bend_angle)\n",
    "time_track_mthread = @timed sbend_track_mthread(bend_angle)\n",
    "\n",
    "time_ad = @timed autodiff(Forward, sbend_track, DuplicatedNoNeed, Duplicated(bend_angle, 1.0))\n",
    "time_ad_mthread = @timed autodiff(Forward, sbend_track_mthread, DuplicatedNoNeed, Duplicated(bend_angle, 1.0))\n",
    "\n",
    "generate_report(time_track, time_track_mthread, time_ad, time_ad_mthread)"
   ]
  },
  {
   "cell_type": "code",
   "execution_count": 11,
   "metadata": {},
   "outputs": [
    {
     "data": {
      "text/plain": [
       "BenchmarkTools.Trial: 8103 samples with 1 evaluation.\n",
       " Range \u001b[90m(\u001b[39m\u001b[36m\u001b[1mmin\u001b[22m\u001b[39m … \u001b[35mmax\u001b[39m\u001b[90m):  \u001b[39m\u001b[36m\u001b[1m114.966 μs\u001b[22m\u001b[39m … \u001b[35m40.742 ms\u001b[39m  \u001b[90m┊\u001b[39m GC \u001b[90m(\u001b[39mmin … max\u001b[90m): \u001b[39m0.00% … 96.50%\n",
       " Time  \u001b[90m(\u001b[39m\u001b[34m\u001b[1mmedian\u001b[22m\u001b[39m\u001b[90m):     \u001b[39m\u001b[34m\u001b[1m158.858 μs              \u001b[22m\u001b[39m\u001b[90m┊\u001b[39m GC \u001b[90m(\u001b[39mmedian\u001b[90m):    \u001b[39m0.00%\n",
       " Time  \u001b[90m(\u001b[39m\u001b[32m\u001b[1mmean\u001b[22m\u001b[39m ± \u001b[32mσ\u001b[39m\u001b[90m):   \u001b[39m\u001b[32m\u001b[1m611.381 μs\u001b[22m\u001b[39m ± \u001b[32m 2.974 ms\u001b[39m  \u001b[90m┊\u001b[39m GC \u001b[90m(\u001b[39mmean ± σ\u001b[90m):  \u001b[39m3.07% ±  3.02%\n",
       "\n",
       "  \u001b[34m█\u001b[39m\u001b[39m▃\u001b[32m \u001b[39m\u001b[39m \u001b[39m \u001b[39m \u001b[39m \u001b[39m \u001b[39m \u001b[39m \u001b[39m \u001b[39m \u001b[39m \u001b[39m \u001b[39m \u001b[39m \u001b[39m \u001b[39m \u001b[39m \u001b[39m \u001b[39m \u001b[39m \u001b[39m \u001b[39m \u001b[39m \u001b[39m \u001b[39m \u001b[39m \u001b[39m \u001b[39m \u001b[39m \u001b[39m \u001b[39m \u001b[39m \u001b[39m \u001b[39m \u001b[39m \u001b[39m \u001b[39m \u001b[39m \u001b[39m \u001b[39m \u001b[39m \u001b[39m \u001b[39m \u001b[39m \u001b[39m \u001b[39m \u001b[39m \u001b[39m \u001b[39m \u001b[39m \u001b[39m \u001b[39m \u001b[39m \u001b[39m \u001b[39m \u001b[39m \u001b[39m \u001b[39m \u001b[39m \u001b[39m▁\n",
       "  \u001b[34m█\u001b[39m\u001b[39m█\u001b[32m█\u001b[39m\u001b[39m▆\u001b[39m▆\u001b[39m▅\u001b[39m▆\u001b[39m▅\u001b[39m▅\u001b[39m▅\u001b[39m▅\u001b[39m▅\u001b[39m▅\u001b[39m▅\u001b[39m▅\u001b[39m▅\u001b[39m▄\u001b[39m▁\u001b[39m▁\u001b[39m▁\u001b[39m▄\u001b[39m▃\u001b[39m▄\u001b[39m▄\u001b[39m▄\u001b[39m▅\u001b[39m▄\u001b[39m▄\u001b[39m▅\u001b[39m▄\u001b[39m▁\u001b[39m▃\u001b[39m▃\u001b[39m▄\u001b[39m▄\u001b[39m▁\u001b[39m▄\u001b[39m▃\u001b[39m▃\u001b[39m▄\u001b[39m▁\u001b[39m▃\u001b[39m▃\u001b[39m▅\u001b[39m▃\u001b[39m▄\u001b[39m▄\u001b[39m▄\u001b[39m▄\u001b[39m▅\u001b[39m▃\u001b[39m▃\u001b[39m▃\u001b[39m▄\u001b[39m▄\u001b[39m▁\u001b[39m▄\u001b[39m▅\u001b[39m▅\u001b[39m▄\u001b[39m \u001b[39m█\n",
       "  115 μs\u001b[90m        \u001b[39m\u001b[90mHistogram: \u001b[39m\u001b[90m\u001b[1mlog(\u001b[22m\u001b[39m\u001b[90mfrequency\u001b[39m\u001b[90m\u001b[1m)\u001b[22m\u001b[39m\u001b[90m by time\u001b[39m      19.5 ms \u001b[0m\u001b[1m<\u001b[22m\n",
       "\n",
       " Memory estimate\u001b[90m: \u001b[39m\u001b[33m52.77 KiB\u001b[39m, allocs estimate\u001b[90m: \u001b[39m\u001b[33m397\u001b[39m."
      ]
     },
     "metadata": {},
     "output_type": "display_data"
    }
   ],
   "source": [
    "# println(@benchmark sbend_track(bend_angle))\n",
    "@benchmark sbend_track_mthread(bend_angle)"
   ]
  },
  {
   "cell_type": "code",
   "execution_count": 15,
   "metadata": {},
   "outputs": [
    {
     "name": "stdout",
     "output_type": "stream",
     "text": [
      "  2.180 μs (36 allocations: 4.45 KiB)\n"
     ]
    },
    {
     "data": {
      "text/plain": [
       "1×6 Matrix{Float64}:\n",
       " 0.00147904  7.0715e-5  0.000251301  -0.000345415  0.00102709  0.0"
      ]
     },
     "metadata": {},
     "output_type": "display_data"
    }
   ],
   "source": [
    "@btime sbend_track(bend_angle)"
   ]
  },
  {
   "cell_type": "code",
   "execution_count": null,
   "metadata": {},
   "outputs": [],
   "source": []
  }
 ],
 "metadata": {
  "kernelspec": {
   "display_name": "Julia 1.9.2",
   "language": "julia",
   "name": "julia-1.9"
  },
  "language_info": {
   "file_extension": ".jl",
   "mimetype": "application/julia",
   "name": "julia",
   "version": "1.9.2"
  },
  "orig_nbformat": 4
 },
 "nbformat": 4,
 "nbformat_minor": 2
}
