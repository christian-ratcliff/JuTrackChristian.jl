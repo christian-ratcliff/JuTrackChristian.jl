{
 "cells": [
  {
   "cell_type": "code",
   "execution_count": 1,
   "metadata": {},
   "outputs": [
    {
     "data": {
      "text/plain": [
       "Main.JuTrack"
      ]
     },
     "metadata": {},
     "output_type": "display_data"
    }
   ],
   "source": [
    "include(\"../src/JuTrack.jl\")\n",
    "\n"
   ]
  },
  {
   "cell_type": "code",
   "execution_count": 2,
   "metadata": {},
   "outputs": [],
   "source": [
    "using .JuTrack\n",
    "using Enzyme\n",
    "using Test\n",
    "using BenchmarkTools\n",
    "# Enzyme.API.runtimeActivity!(true)"
   ]
  },
  {
   "cell_type": "code",
   "execution_count": 3,
   "metadata": {},
   "outputs": [
    {
     "data": {
      "text/plain": [
       "64"
      ]
     },
     "metadata": {},
     "output_type": "display_data"
    }
   ],
   "source": [
    "Threads.nthreads()"
   ]
  },
  {
   "cell_type": "code",
   "execution_count": 8,
   "metadata": {},
   "outputs": [
    {
     "data": {
      "text/plain": [
       "thinMulti_track_mthread (generic function with 1 method)"
      ]
     },
     "metadata": {},
     "output_type": "display_data"
    }
   ],
   "source": [
    "function create_sbend(BendingAngle)\n",
    "        SBD = SBEND(name=\"BD\", len=0.72, angle=BendingAngle/2, e1=BendingAngle/2, e2=0.0 , rad=1)\n",
    "        return [SBD]\n",
    "end        \n",
    "\n",
    "function sbend_track_mthread(BendingAngle)\n",
    "        particles = zeros(Float64, 10000, 6)\n",
    "        particles[:,1] .= .001\n",
    "        particles[:,2] .= .0001\n",
    "        beam = Beam(particles)\n",
    "        line = create_sbend(BendingAngle)\n",
    "        plinepass!(line, beam)\n",
    "        return beam.r\n",
    "end\n",
    "\n",
    "function sbend_track(BendingAngle)\n",
    "        particles = zeros(Float64, 10000, 6)\n",
    "        particles[:,1] .= .001\n",
    "        particles[:,2] .= .0001\n",
    "        beam = Beam(particles)\n",
    "        line = create_sbend(BendingAngle)\n",
    "        linepass!(line, beam)\n",
    "        return beam.r\n",
    "end\n",
    "\n",
    "function create_rbend(BendingAngle)\n",
    "        RBD = RBEND(name=\"BD\", len=0.72, angle=BendingAngle/2, rad=1)\n",
    "        return [RBD]\n",
    "end        \n",
    "\n",
    "function rbend_track_mthread(BendingAngle)\n",
    "        particles = zeros(Float64, 10000, 6)\n",
    "        particles[:,1] .= .001\n",
    "        particles[:,2] .= .0001 \n",
    "        beam = Beam(particles)\n",
    "        line = create_rbend(BendingAngle)\n",
    "        plinepass!(line, beam)\n",
    "        return beam.r\n",
    "end\n",
    "\n",
    "function rbend_track(BendingAngle)\n",
    "        particles = zeros(Float64, 10000, 6)\n",
    "        particles[:,1] .= .001\n",
    "        particles[:,2] .= .0001 \n",
    "        beam = Beam(particles)\n",
    "        line = create_rbend(BendingAngle)\n",
    "        linepass!(line, beam)\n",
    "        return beam.r\n",
    "end\n",
    "\n",
    "function hcorrector_track(hkick)\n",
    "        particles = zeros(Float64, 10000, 6)\n",
    "        particles[:,1] .= .001\n",
    "        particles[:,2] .= .0001 \n",
    "        beam = Beam(particles)\n",
    "        line = [HKICKER(name=\"HKICK\", len=1.5, xkick=hkick)]\n",
    "        linepass!(line, beam)\n",
    "        return beam.r\n",
    "end\n",
    "\n",
    "function hcorrector_track_mthread(hkick)\n",
    "        particles = zeros(Float64, 10000, 6)\n",
    "        particles[:,1] .= .001\n",
    "        particles[:,2] .= .0001 \n",
    "        beam = Beam(particles)\n",
    "        line = [HKICKER(name=\"HKICK\", len=1.5, xkick=hkick)]\n",
    "        plinepass!(line, beam)\n",
    "        return beam.r\n",
    "end\n",
    "\n",
    "function vcorrector_track(vkick)\n",
    "        particles = zeros(Float64, 10000, 6)\n",
    "        particles[:,1] .= .001\n",
    "        particles[:,2] .= .0001 \n",
    "        beam = Beam(particles)\n",
    "        line = [VKICKER(name=\"VKICK\", len=1.5, ykick=vkick)]\n",
    "        linepass!(line, beam)\n",
    "        return beam.r\n",
    "end\n",
    "\n",
    "function vcorrector_track_mthread(vkick)\n",
    "        particles = zeros(Float64, 10000, 6)\n",
    "        particles[:,1] .= .001\n",
    "        particles[:,2] .= .0001 \n",
    "        beam = Beam(particles)\n",
    "        line = [VKICKER(name=\"VKICK\", len=1.5, ykick=vkick)]\n",
    "        plinepass!(line, beam)\n",
    "        return beam.r\n",
    "end\n",
    "\n",
    "function create_drift(l)\n",
    "        dr = DRIFT(len=l)\n",
    "        return dr\n",
    "end\n",
    "\n",
    "function drift_track(l)\n",
    "        particles = zeros(Float64, 10000, 6)\n",
    "        particles[:,1] .= .001\n",
    "        particles[:,2] .= .0001 \n",
    "        beam = Beam(particles)\n",
    "        line = [create_drift(l)]\n",
    "        linepass!(line, beam)\n",
    "        return beam.r\n",
    "end\n",
    "\n",
    "function drift_track_mthread(l)\n",
    "        particles = zeros(Float64, 10000, 6)\n",
    "        particles[:,1] .= .001\n",
    "        particles[:,2] .= .0001 \n",
    "        beam = Beam(particles)\n",
    "        line = [create_drift(l)]\n",
    "        plinepass!(line, beam)\n",
    "        return beam.r\n",
    "end\n",
    "\n",
    "function create_quad(k)\n",
    "        return KQUAD(len=0.5, k1=k)\n",
    "end\n",
    "\n",
    "function quad_track(k)\n",
    "        particles = zeros(Float64, 10000, 6)\n",
    "        particles[:,1] .= .001\n",
    "        particles[:,2] .= .0001 \n",
    "        beam = Beam(particles)\n",
    "        line = [create_quad(k)]\n",
    "        linepass!(line, beam)\n",
    "        return beam.r\n",
    "end\n",
    "\n",
    "function quad_track_mthread(k)\n",
    "        particles = zeros(Float64, 10000, 6)\n",
    "        particles[:,1] .= .001\n",
    "        particles[:,2] .= .0001 \n",
    "        beam = Beam(particles)\n",
    "        line = [create_quad(k)]\n",
    "        plinepass!(line, beam)\n",
    "        return beam.r\n",
    "end\n",
    "\n",
    "function create_sext(k)\n",
    "        return KSEXT(len=0.5, k2=k)\n",
    "end\n",
    "\n",
    "function sext_track(k)\n",
    "        particles = zeros(Float64, 10000, 6)\n",
    "        particles[:,1] .= .001\n",
    "        particles[:,2] .= .0001 \n",
    "        beam = Beam(particles)\n",
    "        line = [create_sext(k)]\n",
    "        linepass!(line, beam)\n",
    "        return beam.r\n",
    "end\n",
    "\n",
    "function sext_track_mthread(k)\n",
    "        particles = zeros(Float64, 10000, 6)\n",
    "        particles[:,1] .= .001\n",
    "        particles[:,2] .= .0001 \n",
    "        beam = Beam(particles)\n",
    "        line = [create_sext(k)]\n",
    "        plinepass!(line, beam)\n",
    "        return beam.r\n",
    "end\n",
    "\n",
    "function create_oct(k)\n",
    "        return KOCT(len=0.5, k3=k)\n",
    "end\n",
    "\n",
    "function oct_track(k)\n",
    "        particles = zeros(Float64, 10000, 6)\n",
    "        particles[:,1] .= .001\n",
    "        particles[:,2] .= .0001 \n",
    "        beam = Beam(particles)\n",
    "        line = [create_oct(k)]\n",
    "        linepass!(line, beam)\n",
    "        return beam.r\n",
    "end\n",
    "\n",
    "function oct_track_mthread(k)\n",
    "        particles = zeros(Float64, 10000, 6)\n",
    "        particles[:,1] .= .001\n",
    "        particles[:,2] .= .0001 \n",
    "        beam = Beam(particles)\n",
    "        line = [create_oct(k)]\n",
    "        plinepass!(line, beam)\n",
    "        return beam.r\n",
    "end\n",
    "\n",
    "function create_RFCA(f)\n",
    "        return RFCA(len=1.034, volt=2.2, freq=f, energy = 30e4)\n",
    "end\n",
    "\n",
    "function RFCA_track(f)\n",
    "        particles = zeros(Float64, 10000, 6)\n",
    "        particles[:,1] .= .001\n",
    "        particles[:,2] .= .0001 \n",
    "        beam = Beam(particles)\n",
    "        line = [create_RFCA(f)]\n",
    "        linepass!(line, beam)\n",
    "        return beam.r\n",
    "end\n",
    "\n",
    "function RFCA_track_mthread(f)\n",
    "        particles = zeros(Float64, 10000, 6)\n",
    "        particles[:,1] .= .001\n",
    "        particles[:,2] .= .0001 \n",
    "        beam = Beam(particles)\n",
    "        line = [create_RFCA(f)]\n",
    "        plinepass!(line, beam)\n",
    "        return beam.r\n",
    "end\n",
    "\n",
    "\n",
    "function create_sol(k)\n",
    "        return SOLENOID(len=0.5, ks=k)\n",
    "end\n",
    "\n",
    "function sol_track(k)\n",
    "        particles = zeros(Float64, 10000, 6)\n",
    "        particles[:,1] .= .001\n",
    "        particles[:,2] .= .0001 \n",
    "        beam = Beam(particles)\n",
    "        line = [create_sol(k)]\n",
    "        linepass!(line, beam)\n",
    "        return beam.r\n",
    "end\n",
    "\n",
    "function sol_track_mthread(k)\n",
    "        particles = zeros(Float64, 10000, 6)\n",
    "        particles[:,1] .= .001\n",
    "        particles[:,2] .= .0001 \n",
    "        beam = Beam(particles)\n",
    "        line = [create_sol(k)]\n",
    "        plinepass!(line, beam)\n",
    "        return beam.r\n",
    "end\n",
    "\n",
    "function create_thinMulti(k)\n",
    "        return thinMULTIPOLE(len=0.5, PolynomB = [0.0, k, 1.43, -1.32])\n",
    "end\n",
    "\n",
    "function thinMulti_track(k)\n",
    "        particles = zeros(Float64, 10000, 6)\n",
    "        particles[:,1] .= .001\n",
    "        particles[:,2] .= .0001 \n",
    "        beam = Beam(particles)\n",
    "        line = [create_thinMulti(k)]\n",
    "        linepass!(line, beam)\n",
    "        return beam.r\n",
    "end\n",
    "\n",
    "function thinMulti_track_mthread(k)\n",
    "        particles = zeros(Float64, 10000, 6)\n",
    "        particles[:,1] .= .001\n",
    "        particles[:,2] .= .0001 \n",
    "        beam = Beam(particles)\n",
    "        line = [create_thinMulti(k)]\n",
    "        plinepass!(line, beam)\n",
    "        return beam.r\n",
    "end"
   ]
  },
  {
   "cell_type": "code",
   "execution_count": 20,
   "metadata": {},
   "outputs": [
    {
     "name": "stdout",
     "output_type": "stream",
     "text": [
      "  367.770 μs (367 allocations: 986.97 KiB)\n"
     ]
    }
   ],
   "source": [
    "particles = zeros(Float64, 10000, 6)\n",
    "particles[:,1] .= .001\n",
    "particles[:,2] .= .0001\n",
    "beam = Beam(particles)\n",
    "BendingAngle=pi/3\n",
    "line = create_sbend(BendingAngle)\n",
    "@btime plinepass!(line, beam)"
   ]
  },
  {
   "cell_type": "code",
   "execution_count": 4,
   "metadata": {},
   "outputs": [
    {
     "name": "stdout",
     "output_type": "stream",
     "text": [
      "  51.749 ms (3397485 allocations: 62.22 MiB)\n",
      "  5.940 ms (3397862 allocations: 62.27 MiB)\n",
      "  666.793 ms (9017518 allocations: 188.79 MiB)\n",
      "  28.964 ms (9017905 allocations: 188.86 MiB)\n",
      "Single Thread AutoDiff = Multithread Autodiff?  true\n"
     ]
    }
   ],
   "source": [
    "bend_angle = pi/2\n",
    "@btime sbend_track(bend_angle)\n",
    "@btime sbend_track_mthread(bend_angle)\n",
    "grad1 = autodiff(Forward, sbend_track, DuplicatedNoNeed, Duplicated(bend_angle, 1.0))\n",
    "grad2 = autodiff(Forward, sbend_track_mthread, DuplicatedNoNeed, Duplicated(bend_angle, 1.0))\n",
    "@btime autodiff(Forward, sbend_track, DuplicatedNoNeed, Duplicated(bend_angle, 1.0))\n",
    "@btime autodiff(Forward, sbend_track_mthread, DuplicatedNoNeed, Duplicated(bend_angle, 1.0))\n",
    "println(\"Single Thread AutoDiff = Multithread Autodiff?  \", grad1 == grad2)\n",
    "\n",
    "\n",
    "#After modifying the function to pass particles into it, these are the Results\n",
    "# 56.041 ms (3397483 allocations: 61.76 MiB)\n",
    "# 4.534 ms (3397857 allocations: 61.81 MiB)\n",
    "# 921.773 ms (10557535 allocations: 211.38 MiB)\n",
    "# 36.662 ms (10557925 allocations: 211.44 MiB)\n",
    "# Single Thread AutoDiff = Multithread Autodiff?  true\n",
    "\n",
    "\n",
    "#In order for AD to work, we need to have the Beam() unchanging, but passing the particles into it makes it change. By using the runtimeActivity(True) it can work (which is seen above), but it runs even slower, with more allocations\n",
    "#If we did not have to do AD, we wouldn't have to make a function, and it would run much faster (see cell above) "
   ]
  },
  {
   "cell_type": "code",
   "execution_count": 21,
   "metadata": {},
   "outputs": [
    {
     "name": "stdout",
     "output_type": "stream",
     "text": [
      "BenchmarkTools.Trial\n",
      "  params: BenchmarkTools.Parameters\n",
      "    seconds: Float64 5.0\n",
      "    samples: Int64 10000\n",
      "    evals: Int64 1\n",
      "    evals_set: Bool false\n",
      "    overhead: Float64 0.0\n",
      "    gctrial: Bool true\n",
      "    gcsample: Bool false\n",
      "    time_tolerance: Float64 0.05\n",
      "    memory_tolerance: Float64 0.01\n",
      "  times: Array{Float64}((78,)) [3.7546879e7, 3.4677947e7, 3.346356e7, 3.5149201e7, 3.6006279e7, 3.3498905e7, 2.50037838e8, 3.4701411e7, 3.2619145e7, 3.5001193e7  …  3.1514413e7, 2.9466802e7, 2.8726343e7, 2.9873566e7, 3.0434587e7, 2.71694732e8, 3.2233723e7, 3.035081e7, 3.0759868e7, 3.0779564e7]\n",
      "  gctimes: Array{Float64}((78,)) [0.0, 0.0, 0.0, 0.0, 0.0, 0.0, 2.18237068e8, 0.0, 0.0, 0.0  …  0.0, 0.0, 0.0, 0.0, 0.0, 2.42532039e8, 0.0, 0.0, 0.0, 0.0]\n",
      "  memory: Int64 198034416\n",
      "  allocs: Int64 9017909\n"
     ]
    }
   ],
   "source": [
    "bb = @benchmark autodiff(Forward, sbend_track_mthread, DuplicatedNoNeed, Duplicated(bend_angle, 1.0))\n",
    "dump(bb)\n"
   ]
  },
  {
   "cell_type": "code",
   "execution_count": 9,
   "metadata": {},
   "outputs": [
    {
     "name": "stdout",
     "output_type": "stream",
     "text": [
      "  71.453 ms (3397485 allocations: 62.22 MiB)\n",
      "  5.075 ms (3397808 allocations: 62.27 MiB)\n",
      "  686.359 ms (9057518 allocations: 197.95 MiB)\n",
      "  21.113 ms (9057843 allocations: 198.01 MiB)\n",
      "Single Thread AutoDiff = Multithread Autodiff?  true\n"
     ]
    }
   ],
   "source": [
    "const bend_angle = pi/2\n",
    "@btime rbend_track(bend_angle)\n",
    "@btime rbend_track_mthread(bend_angle)\n",
    "grad1 = autodiff(Forward, rbend_track, DuplicatedNoNeed, Duplicated(bend_angle, 1.0))\n",
    "grad2 = autodiff(Forward, rbend_track_mthread, DuplicatedNoNeed, Duplicated(bend_angle, 1.0))\n",
    "@btime autodiff(Forward, rbend_track, DuplicatedNoNeed, Duplicated(bend_angle, 1.0))\n",
    "@btime autodiff(Forward, rbend_track_mthread, DuplicatedNoNeed, Duplicated(bend_angle, 1.0))\n",
    "println(\"Single Thread AutoDiff = Multithread Autodiff?  \", grad1 == grad2)\n",
    "\n",
    "# 52.541 ms (3397485 allocations: 62.22 MiB)\n",
    "# 4.838 ms (3397862 allocations: 62.27 MiB)\n",
    "# 646.843 ms (9017518 allocations: 188.79 MiB)\n",
    "# 28.035 ms (9017908 allocations: 188.86 MiB)\n",
    "# Single Thread AutoDiff = Multithread Autodiff?  true"
   ]
  },
  {
   "cell_type": "code",
   "execution_count": 12,
   "metadata": {},
   "outputs": [
    {
     "name": "stdout",
     "output_type": "stream",
     "text": [
      "  2.611 ms (100028 allocations: 11.90 MiB)\n",
      "  852.449 μs (100408 allocations: 11.94 MiB)\n",
      "  15.044 ms (220054 allocations: 16.41 MiB)\n",
      "  1.462 ms (220408 allocations: 16.45 MiB)\n",
      "Single Thread AutoDiff = Multithread Autodiff?  true\n"
     ]
    }
   ],
   "source": [
    "hkick = 0.02\n",
    "@btime hcorrector_track(hkick)\n",
    "@btime hcorrector_track_mthread(hkick)\n",
    "grad1 = autodiff(Forward, hcorrector_track, DuplicatedNoNeed, Duplicated(hkick, 1.0))\n",
    "grad2 = autodiff(Forward, hcorrector_track_mthread, DuplicatedNoNeed, Duplicated(hkick, 1.0))\n",
    "@btime autodiff(Forward, hcorrector_track, DuplicatedNoNeed, Duplicated(hkick, 1.0))\n",
    "@btime autodiff(Forward, hcorrector_track_mthread, DuplicatedNoNeed, Duplicated(hkick, 1.0))\n",
    "println(\"Single Thread AutoDiff = Multithread Autodiff?  \", grad1 == grad2)\n",
    "\n",
    "# 2.611 ms (100028 allocations: 11.90 MiB)\n",
    "# 852.449 μs (100408 allocations: 11.94 MiB)\n",
    "# 15.044 ms (220054 allocations: 16.41 MiB)\n",
    "# 1.462 ms (220408 allocations: 16.45 MiB)\n",
    "# Single Thread AutoDiff = Multithread Autodiff?  true"
   ]
  },
  {
   "cell_type": "code",
   "execution_count": 13,
   "metadata": {},
   "outputs": [
    {
     "name": "stdout",
     "output_type": "stream",
     "text": [
      "  2.614 ms (100028 allocations: 11.90 MiB)\n",
      "  816.672 μs (100381 allocations: 11.94 MiB)\n",
      "  14.945 ms (220054 allocations: 16.41 MiB)\n",
      "  1.502 ms (220398 allocations: 16.45 MiB)\n",
      "Single Thread AutoDiff = Multithread Autodiff?  true\n"
     ]
    }
   ],
   "source": [
    "vkick = 0.02\n",
    "@btime vcorrector_track(vkick)\n",
    "@btime vcorrector_track_mthread(vkick)\n",
    "grad1 = autodiff(Forward, vcorrector_track, DuplicatedNoNeed, Duplicated(vkick, 1.0))\n",
    "grad2 = autodiff(Forward, vcorrector_track_mthread, DuplicatedNoNeed, Duplicated(vkick, 1.0))\n",
    "@btime autodiff(Forward, vcorrector_track, DuplicatedNoNeed, Duplicated(vkick, 1.0))\n",
    "@btime autodiff(Forward, vcorrector_track_mthread, DuplicatedNoNeed, Duplicated(vkick, 1.0))\n",
    "println(\"Single Thread AutoDiff = Multithread Autodiff?  \", grad1 == grad2)\n"
   ]
  },
  {
   "cell_type": "code",
   "execution_count": 14,
   "metadata": {},
   "outputs": [
    {
     "name": "stdout",
     "output_type": "stream",
     "text": [
      "  2.734 ms (100030 allocations: 11.90 MiB)\n",
      "  943.861 μs (100413 allocations: 11.94 MiB)\n",
      "  17.868 ms (230058 allocations: 16.71 MiB)\n",
      "  1.636 ms (230399 allocations: 16.76 MiB)\n",
      "Single Thread AutoDiff = Multithread Autodiff?  true\n"
     ]
    }
   ],
   "source": [
    "l = 1.23\n",
    "@btime drift_track(l)\n",
    "@btime drift_track_mthread(l)\n",
    "grad1 = autodiff(Forward, drift_track, DuplicatedNoNeed, Duplicated(l, 1.0))\n",
    "grad2 = autodiff(Forward, drift_track_mthread, DuplicatedNoNeed, Duplicated(l, 1.0))\n",
    "@btime autodiff(Forward, drift_track, DuplicatedNoNeed, Duplicated(l, 1.0))\n",
    "@btime autodiff(Forward, drift_track_mthread, DuplicatedNoNeed, Duplicated(l, 1.0))\n",
    "println(\"Single Thread AutoDiff = Multithread Autodiff?  \", grad1 == grad2)"
   ]
  },
  {
   "cell_type": "code",
   "execution_count": 15,
   "metadata": {},
   "outputs": [
    {
     "name": "stdout",
     "output_type": "stream",
     "text": [
      "  12.122 ms (100036 allocations: 11.90 MiB)\n",
      "  1.435 ms (100389 allocations: 11.95 MiB)\n",
      "  105.090 ms (650070 allocations: 35.94 MiB)\n",
      "  5.594 ms (630457 allocations: 28.98 MiB)\n",
      "Single Thread AutoDiff = Multithread Autodiff?  true\n"
     ]
    }
   ],
   "source": [
    "k1 = 1.0627727\n",
    "@btime quad_track(k1)\n",
    "@btime quad_track_mthread(k1)\n",
    "grad1 = autodiff(Forward, quad_track, DuplicatedNoNeed, Duplicated(k1, 1.0))\n",
    "grad2 = autodiff(Forward, quad_track_mthread, DuplicatedNoNeed, Duplicated(k1, 1.0))\n",
    "@btime autodiff(Forward, quad_track, DuplicatedNoNeed, Duplicated(k1, 1.0))\n",
    "@btime autodiff(Forward, quad_track_mthread, DuplicatedNoNeed, Duplicated(k1, 1.0))\n",
    "println(\"Single Thread AutoDiff = Multithread Autodiff?  \", grad1 == grad2)"
   ]
  },
  {
   "cell_type": "code",
   "execution_count": 16,
   "metadata": {},
   "outputs": [
    {
     "name": "stdout",
     "output_type": "stream",
     "text": [
      "  12.365 ms (100036 allocations: 11.90 MiB)\n",
      "  1.717 ms (100419 allocations: 11.95 MiB)\n",
      "  105.338 ms (650070 allocations: 35.94 MiB)\n",
      "  5.765 ms (630430 allocations: 28.98 MiB)\n",
      "Single Thread AutoDiff = Multithread Autodiff?  true\n"
     ]
    }
   ],
   "source": [
    "k2 = 1.0627727\n",
    "@btime sext_track(k2)\n",
    "@btime sext_track_mthread(k2)\n",
    "grad1 = autodiff(Forward, sext_track, DuplicatedNoNeed, Duplicated(k2, 1.0))\n",
    "grad2 = autodiff(Forward, sext_track_mthread, DuplicatedNoNeed, Duplicated(k2, 1.0))\n",
    "@btime autodiff(Forward, sext_track, DuplicatedNoNeed, Duplicated(k2, 1.0))\n",
    "@btime autodiff(Forward, sext_track_mthread, DuplicatedNoNeed, Duplicated(k2, 1.0))\n",
    "println(\"Single Thread AutoDiff = Multithread Autodiff?  \", grad1 == grad2)"
   ]
  },
  {
   "cell_type": "code",
   "execution_count": 17,
   "metadata": {},
   "outputs": [
    {
     "name": "stdout",
     "output_type": "stream",
     "text": [
      "  12.421 ms (100036 allocations: 11.90 MiB)\n",
      "  1.603 ms (100416 allocations: 11.95 MiB)\n",
      "  105.099 ms (650070 allocations: 35.94 MiB)\n",
      "  5.857 ms (630430 allocations: 28.98 MiB)\n",
      "Single Thread AutoDiff = Multithread Autodiff?  true\n"
     ]
    }
   ],
   "source": [
    "k3 = 1.0627727\n",
    "@btime oct_track(k3)\n",
    "@btime oct_track_mthread(k3)\n",
    "grad1 = autodiff(Forward, oct_track, DuplicatedNoNeed, Duplicated(k3, 1.0))\n",
    "grad2 = autodiff(Forward, oct_track_mthread, DuplicatedNoNeed, Duplicated(k3, 1.0))\n",
    "@btime autodiff(Forward, oct_track, DuplicatedNoNeed, Duplicated(k3, 1.0))\n",
    "@btime autodiff(Forward, oct_track_mthread, DuplicatedNoNeed, Duplicated(k3, 1.0))\n",
    "println(\"Single Thread AutoDiff = Multithread Autodiff?  \", grad1 == grad2)"
   ]
  },
  {
   "cell_type": "code",
   "execution_count": 5,
   "metadata": {},
   "outputs": [
    {
     "name": "stdout",
     "output_type": "stream",
     "text": [
      "  1.475 ms (60024 allocations: 2.75 MiB)\n",
      "  626.595 μs (60397 allocations: 2.79 MiB)\n",
      "  17.447 ms (200046 allocations: 7.86 MiB)\n",
      "  1.386 ms (200395 allocations: 7.91 MiB)\n",
      "Single Thread AutoDiff = Multithread Autodiff?  true\n"
     ]
    }
   ],
   "source": [
    "f = 60.\n",
    "@btime RFCA_track(f)\n",
    "@btime RFCA_track_mthread(f)\n",
    "grad1 = autodiff(Forward, RFCA_track, DuplicatedNoNeed, Duplicated(f, 1.0))\n",
    "grad2 = autodiff(Forward, RFCA_track_mthread, DuplicatedNoNeed, Duplicated(f, 1.0))\n",
    "@btime autodiff(Forward, RFCA_track, DuplicatedNoNeed, Duplicated(f, 1.0))\n",
    "@btime autodiff(Forward, RFCA_track_mthread, DuplicatedNoNeed, Duplicated(f, 1.0))\n",
    "println(\"Single Thread AutoDiff = Multithread Autodiff?  \", grad1 == grad2)\n",
    "\n"
   ]
  },
  {
   "cell_type": "code",
   "execution_count": null,
   "metadata": {},
   "outputs": [],
   "source": [
    "ks = 1.0627727\n",
    "@btime sol_track(ks)\n",
    "@btime sol_track_mthread(ks)\n",
    "grad1 = autodiff(Forward, sol_track, DuplicatedNoNeed, Duplicated(ks, 1.0))\n",
    "grad2 = autodiff(Forward, sol_track_mthread, DuplicatedNoNeed, Duplicated(ks, 1.0))\n",
    "@btime autodiff(Forward, sol_track, DuplicatedNoNeed, Duplicated(ks, 1.0))\n",
    "@btime autodiff(Forward, sol_track_mthread, DuplicatedNoNeed, Duplicated(ks, 1.0))\n",
    "println(\"Single Thread AutoDiff = Multithread Autodiff?  \", grad1 == grad2)\n",
    "\n",
    "#Something in this cell consistently causes the cell to run forever"
   ]
  },
  {
   "cell_type": "code",
   "execution_count": 18,
   "metadata": {},
   "outputs": [
    {
     "name": "stdout",
     "output_type": "stream",
     "text": [
      "  2.823 ms (100035 allocations: 11.90 MiB)\n",
      "  723.938 μs (100389 allocations: 11.94 MiB)\n",
      "  15.170 ms (220068 allocations: 16.41 MiB)\n",
      "  1.521 ms (220431 allocations: 16.46 MiB)\n",
      "Single Thread AutoDiff = Multithread Autodiff?  true\n"
     ]
    }
   ],
   "source": [
    "k1 = 1.0627727\n",
    "@btime thinMulti_track(k1)\n",
    "@btime thinMulti_track_mthread(k1)\n",
    "grad1 = autodiff(Forward, thinMulti_track, DuplicatedNoNeed, Duplicated(k1, 1.0))\n",
    "grad2 = autodiff(Forward, thinMulti_track_mthread, DuplicatedNoNeed, Duplicated(k1, 1.0))\n",
    "@btime autodiff(Forward, thinMulti_track, DuplicatedNoNeed, Duplicated(k1, 1.0))\n",
    "@btime autodiff(Forward, thinMulti_track_mthread, DuplicatedNoNeed, Duplicated(k1, 1.0))\n",
    "println(\"Single Thread AutoDiff = Multithread Autodiff?  \", grad1 == grad2)"
   ]
  }
 ],
 "metadata": {
  "kernelspec": {
   "display_name": "Julia 1.9.2",
   "language": "julia",
   "name": "julia-1.9"
  },
  "language_info": {
   "file_extension": ".jl",
   "mimetype": "application/julia",
   "name": "julia",
   "version": "1.9.2"
  },
  "orig_nbformat": 4
 },
 "nbformat": 4,
 "nbformat_minor": 2
}
