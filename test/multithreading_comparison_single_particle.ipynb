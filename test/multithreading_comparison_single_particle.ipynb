{
 "cells": [
  {
   "cell_type": "code",
   "execution_count": 1,
   "metadata": {},
   "outputs": [
    {
     "data": {
      "text/plain": [
       "Main.JuTrack"
      ]
     },
     "metadata": {},
     "output_type": "display_data"
    }
   ],
   "source": [
    "include(\"../src/JuTrack.jl\")\n",
    "\n"
   ]
  },
  {
   "cell_type": "code",
   "execution_count": 2,
   "metadata": {},
   "outputs": [],
   "source": [
    "using .JuTrack\n",
    "using Enzyme\n",
    "using Test\n",
    "using BenchmarkTools"
   ]
  },
  {
   "cell_type": "code",
   "execution_count": 3,
   "metadata": {},
   "outputs": [
    {
     "data": {
      "text/plain": [
       "64"
      ]
     },
     "metadata": {},
     "output_type": "display_data"
    }
   ],
   "source": [
    "Threads.nthreads()"
   ]
  },
  {
   "cell_type": "code",
   "execution_count": 3,
   "metadata": {},
   "outputs": [
    {
     "data": {
      "text/plain": [
       "thinMulti_track_mthread (generic function with 1 method)"
      ]
     },
     "metadata": {},
     "output_type": "display_data"
    }
   ],
   "source": [
    "function create_sbend(BendingAngle)\n",
    "        SBD = SBEND(name=\"BD\", len=0.72, angle=BendingAngle/2, e1=BendingAngle/2, e2=0.0 , rad=1)\n",
    "        return [SBD]\n",
    "end        \n",
    "\n",
    "function sbend_track_mthread(BendingAngle)\n",
    "        particles = [.001 .0001 .0005 .0002 0.0 0.0] \n",
    "        beam = Beam(particles)\n",
    "        line = create_sbend(BendingAngle)\n",
    "        plinepass!(line, beam)\n",
    "        return beam.r\n",
    "end\n",
    "\n",
    "function sbend_track(BendingAngle)\n",
    "        particles = [.001 .0001 .0005 .0002 0.0 0.0] \n",
    "        beam = Beam(particles)\n",
    "        line = create_sbend(BendingAngle)\n",
    "        linepass!(line, beam)\n",
    "        return beam.r\n",
    "end\n",
    "\n",
    "function create_rbend(BendingAngle)\n",
    "        RBD = RBEND(name=\"BD\", len=0.72, angle=BendingAngle/2, rad=1)\n",
    "        return [RBD]\n",
    "end        \n",
    "\n",
    "function rbend_track_mthread(BendingAngle)\n",
    "        particles = [.001 .0001 .0005 .0002 0.0 0.0] \n",
    "        beam = Beam(particles)\n",
    "        line = create_rbend(BendingAngle)\n",
    "        plinepass!(line, beam)\n",
    "        return beam.r\n",
    "end\n",
    "\n",
    "function rbend_track(BendingAngle)\n",
    "        particles = [.001 .0001 .0005 .0002 0.0 0.0] \n",
    "        beam = Beam(particles)\n",
    "        line = create_rbend(BendingAngle)\n",
    "        linepass!(line, beam)\n",
    "        return beam.r\n",
    "end\n",
    "\n",
    "function hcorrector_track(hkick)\n",
    "        particles = [.001 .0001 .0005 .0002 0.0 0.0] \n",
    "        beam = Beam(particles)\n",
    "        line = [HKICKER(name=\"HKICK\", len=1.5, xkick=hkick)]\n",
    "        linepass!(line, beam)\n",
    "        return beam.r\n",
    "end\n",
    "\n",
    "function hcorrector_track_mthread(hkick)\n",
    "        particles = [.001 .0001 .0005 .0002 0.0 0.0] \n",
    "        beam = Beam(particles)\n",
    "        line = [HKICKER(name=\"HKICK\", len=1.5, xkick=hkick)]\n",
    "        plinepass!(line, beam)\n",
    "        return beam.r\n",
    "end\n",
    "\n",
    "function vcorrector_track(vkick)\n",
    "        particles = [.001 .0001 .0005 .0002 0.0 0.0] \n",
    "        beam = Beam(particles)\n",
    "        line = [VKICKER(name=\"VKICK\", len=1.5, ykick=vkick)]\n",
    "        linepass!(line, beam)\n",
    "        return beam.r\n",
    "end\n",
    "\n",
    "function vcorrector_track_mthread(vkick)\n",
    "        particles = [.001 .0001 .0005 .0002 0.0 0.0] \n",
    "        beam = Beam(particles)\n",
    "        line = [VKICKER(name=\"VKICK\", len=1.5, ykick=vkick)]\n",
    "        plinepass!(line, beam)\n",
    "        return beam.r\n",
    "end\n",
    "\n",
    "function create_drift(l)\n",
    "        dr = DRIFT(len=l)\n",
    "        return dr\n",
    "end\n",
    "\n",
    "function drift_track(l)\n",
    "        particles = [.001 .0001 .0005 .0002 0.0 0.0] \n",
    "        beam = Beam(particles)\n",
    "        line = [create_drift(l)]\n",
    "        linepass!(line, beam)\n",
    "        return beam.r\n",
    "end\n",
    "\n",
    "function drift_track_mthread(l)\n",
    "        particles = [.001 .0001 .0005 .0002 0.0 0.0] \n",
    "        beam = Beam(particles)\n",
    "        line = [create_drift(l)]\n",
    "        plinepass!(line, beam)\n",
    "        return beam.r\n",
    "end\n",
    "\n",
    "function create_quad(k)\n",
    "        return KQUAD(len=0.5, k1=k)\n",
    "end\n",
    "\n",
    "function quad_track(k)\n",
    "        particles = [.001 .0001 .0005 .0002 0.0 0.0] \n",
    "        beam = Beam(particles)\n",
    "        line = [create_quad(k)]\n",
    "        linepass!(line, beam)\n",
    "        return beam.r\n",
    "end\n",
    "\n",
    "function quad_track_mthread(k)\n",
    "        particles = [.001 .0001 .0005 .0002 0.0 0.0] \n",
    "        beam = Beam(particles)\n",
    "        line = [create_quad(k)]\n",
    "        plinepass!(line, beam)\n",
    "        return beam.r\n",
    "end\n",
    "\n",
    "function create_sext(k)\n",
    "        return KSEXT(len=0.5, k2=k)\n",
    "end\n",
    "\n",
    "function sext_track(k)\n",
    "        particles = [.001 .0001 .0005 .0002 0.0 0.0] \n",
    "        beam = Beam(particles)\n",
    "        line = [create_sext(k)]\n",
    "        linepass!(line, beam)\n",
    "        return beam.r\n",
    "end\n",
    "\n",
    "function sext_track_mthread(k)\n",
    "        particles = [.001 .0001 .0005 .0002 0.0 0.0] \n",
    "        beam = Beam(particles)\n",
    "        line = [create_sext(k)]\n",
    "        plinepass!(line, beam)\n",
    "        return beam.r\n",
    "end\n",
    "\n",
    "function create_oct(k)\n",
    "        return KOCT(len=0.5, k3=k)\n",
    "end\n",
    "\n",
    "function oct_track(k)\n",
    "        particles = [.001 .0001 .0005 .0002 0.0 0.0] \n",
    "        beam = Beam(particles)\n",
    "        line = [create_oct(k)]\n",
    "        linepass!(line, beam)\n",
    "        return beam.r\n",
    "end\n",
    "\n",
    "function oct_track_mthread(k)\n",
    "        particles = [.001 .0001 .0005 .0002 0.0 0.0] \n",
    "        beam = Beam(particles)\n",
    "        line = [create_oct(k)]\n",
    "        plinepass!(line, beam)\n",
    "        return beam.r\n",
    "end\n",
    "\n",
    "function create_RFCA(f)\n",
    "        return RFCA(len=1.034, volt=2.2, freq=f, energy = 30e4)\n",
    "end\n",
    "\n",
    "function RFCA_track(f)\n",
    "        particles = [.001 .0001 .0005 .0002 0.0 0.0] \n",
    "        beam = Beam(particles)\n",
    "        line = [create_RFCA(f)]\n",
    "        linepass!(line, beam)\n",
    "        return beam.r\n",
    "end\n",
    "\n",
    "function RFCA_track_mthread(f)\n",
    "        particles = [.001 .0001 .0005 .0002 0.0 0.0] \n",
    "        beam = Beam(particles)\n",
    "        line = [create_RFCA(f)]\n",
    "        plinepass!(line, beam)\n",
    "        return beam.r\n",
    "end\n",
    "\n",
    "\n",
    "function create_sol(k)\n",
    "        return SOLENOID(len=0.5, ks=k)\n",
    "end\n",
    "\n",
    "function sol_track(k)\n",
    "        particles = [.001 .0001 .0005 .0002 0.0 0.0] \n",
    "        beam = Beam(particles)\n",
    "        line = [create_sol(k)]\n",
    "        linepass!(line, beam)\n",
    "        return beam.r\n",
    "end\n",
    "\n",
    "function sol_track_mthread(k)\n",
    "        particles = [.001 .0001 .0005 .0002 0.0 0.0] \n",
    "        beam = Beam(particles)\n",
    "        line = [create_sol(k)]\n",
    "        plinepass!(line, beam)\n",
    "        return beam.r\n",
    "end\n",
    "\n",
    "function create_thinMulti(k)\n",
    "        return thinMULTIPOLE(len=0.5, PolynomB = [0.0, k, 1.43, -1.32])\n",
    "end\n",
    "\n",
    "function thinMulti_track(k)\n",
    "        particles = [.001 .0001 .0005 .0002 0.0 0.0] \n",
    "        beam = Beam(particles)\n",
    "        line = [create_thinMulti(k)]\n",
    "        linepass!(line, beam)\n",
    "        return beam.r\n",
    "end\n",
    "\n",
    "function thinMulti_track_mthread(k)\n",
    "        particles = [.001 .0001 .0005 .0002 0.0 0.0] \n",
    "        beam = Beam(particles)\n",
    "        line = [create_thinMulti(k)]\n",
    "        plinepass!(line, beam)\n",
    "        return beam.r\n",
    "end"
   ]
  },
  {
   "cell_type": "code",
   "execution_count": 8,
   "metadata": {},
   "outputs": [
    {
     "name": "stdout",
     "output_type": "stream",
     "text": [
      "  5.569 μs (336 allocations: 9.14 KiB)\n",
      "  113.493 μs (700 allocations: 58.55 KiB)\n",
      "  64.040 μs (923 allocations: 25.28 KiB)\n",
      "  118.563 μs (1290 allocations: 91.75 KiB)\n",
      "Single Thread AutoDiff = Multithread Autodiff?  true\n"
     ]
    }
   ],
   "source": [
    "bend_angle = pi/2\n",
    "@btime sbend_track(bend_angle)\n",
    "@btime sbend_track_mthread(bend_angle)\n",
    "grad1 = autodiff(Forward, sbend_track, DuplicatedNoNeed, Duplicated(bend_angle, 1.0))\n",
    "grad2 = autodiff(Forward, sbend_track_mthread, DuplicatedNoNeed, Duplicated(bend_angle, 1.0))\n",
    "@btime autodiff(Forward, sbend_track, DuplicatedNoNeed, Duplicated(bend_angle, 1.0))\n",
    "@btime autodiff(Forward, sbend_track_mthread, DuplicatedNoNeed, Duplicated(bend_angle, 1.0))\n",
    "println(\"Single Thread AutoDiff = Multithread Autodiff?  \", grad1 == grad2)"
   ]
  },
  {
   "cell_type": "code",
   "execution_count": 11,
   "metadata": {},
   "outputs": [
    {
     "name": "stdout",
     "output_type": "stream",
     "text": [
      "  5.460 μs (336 allocations: 9.14 KiB)\n",
      "  118.212 μs (702 allocations: 58.61 KiB)\n",
      "  64.841 μs (923 allocations: 25.28 KiB)\n",
      "  109.415 μs (1291 allocations: 91.78 KiB)\n",
      "Single Thread AutoDiff = Multithread Autodiff?  true\n"
     ]
    }
   ],
   "source": [
    "bend_angle = pi/2\n",
    "@btime rbend_track(bend_angle)\n",
    "@btime rbend_track_mthread(bend_angle)\n",
    "grad1 = autodiff(Forward, rbend_track, DuplicatedNoNeed, Duplicated(bend_angle, 1.0))\n",
    "grad2 = autodiff(Forward, rbend_track_mthread, DuplicatedNoNeed, Duplicated(bend_angle, 1.0))\n",
    "@btime autodiff(Forward, rbend_track, DuplicatedNoNeed, Duplicated(bend_angle, 1.0))\n",
    "@btime autodiff(Forward, rbend_track_mthread, DuplicatedNoNeed, Duplicated(bend_angle, 1.0))\n",
    "println(\"Single Thread AutoDiff = Multithread Autodiff?  \", grad1 == grad2)"
   ]
  },
  {
   "cell_type": "code",
   "execution_count": 5,
   "metadata": {},
   "outputs": [
    {
     "name": "stdout",
     "output_type": "stream",
     "text": [
      "  796.442 ns (29 allocations: 3.64 KiB)\n",
      "  83.045 μs (393 allocations: 43.08 KiB)\n",
      "  2.400 μs (59 allocations: 6.47 KiB)\n",
      "  98.976 μs (422 allocations: 51.88 KiB)\n",
      "Single Thread AutoDiff = Multithread Autodiff?  true\n"
     ]
    }
   ],
   "source": [
    "hkick = 0.02\n",
    "@btime hcorrector_track(hkick)\n",
    "@btime hcorrector_track_mthread(hkick)\n",
    "grad1 = autodiff(Forward, hcorrector_track, DuplicatedNoNeed, Duplicated(hkick, 1.0))\n",
    "grad2 = autodiff(Forward, hcorrector_track_mthread, DuplicatedNoNeed, Duplicated(hkick, 1.0))\n",
    "@btime autodiff(Forward, hcorrector_track, DuplicatedNoNeed, Duplicated(hkick, 1.0))\n",
    "@btime autodiff(Forward, hcorrector_track_mthread, DuplicatedNoNeed, Duplicated(hkick, 1.0))\n",
    "println(\"Single Thread AutoDiff = Multithread Autodiff?  \", grad1 == grad2)"
   ]
  },
  {
   "cell_type": "code",
   "execution_count": 9,
   "metadata": {},
   "outputs": [
    {
     "name": "stdout",
     "output_type": "stream",
     "text": [
      "  830.282 ns (29 allocations: 3.64 KiB)\n",
      "  104.677 μs (393 allocations: 43.08 KiB)\n",
      "  2.516 μs (59 allocations: 6.47 KiB)\n",
      "  107.792 μs (424 allocations: 51.94 KiB)\n",
      "Single Thread AutoDiff = Multithread Autodiff?  true\n"
     ]
    }
   ],
   "source": [
    "vkick = 0.02\n",
    "@btime vcorrector_track(vkick)\n",
    "@btime vcorrector_track_mthread(vkick)\n",
    "grad1 = autodiff(Forward, vcorrector_track, DuplicatedNoNeed, Duplicated(vkick, 1.0))\n",
    "grad2 = autodiff(Forward, vcorrector_track_mthread, DuplicatedNoNeed, Duplicated(vkick, 1.0))\n",
    "@btime autodiff(Forward, vcorrector_track, DuplicatedNoNeed, Duplicated(vkick, 1.0))\n",
    "@btime autodiff(Forward, vcorrector_track_mthread, DuplicatedNoNeed, Duplicated(vkick, 1.0))\n",
    "println(\"Single Thread AutoDiff = Multithread Autodiff?  \", grad1 == grad2)"
   ]
  },
  {
   "cell_type": "code",
   "execution_count": 30,
   "metadata": {},
   "outputs": [
    {
     "name": "stdout",
     "output_type": "stream",
     "text": [
      "  854.509 ns (31 allocations: 3.86 KiB)\n",
      "  107.411 μs (392 allocations: 42.20 KiB)\n",
      "  2.865 μs (64 allocations: 6.94 KiB)\n",
      "  114.756 μs (428 allocations: 50.38 KiB)\n",
      "Single Thread AutoDiff = Multithread Autodiff?  true\n"
     ]
    }
   ],
   "source": [
    "l = 1.23\n",
    "@btime drift_track(l)\n",
    "@btime drift_track_mthread(l)\n",
    "grad1 = autodiff(Forward, drift_track, DuplicatedNoNeed, Duplicated(l, 1.0))\n",
    "grad2 = autodiff(Forward, drift_track_mthread, DuplicatedNoNeed, Duplicated(l, 1.0))\n",
    "@btime autodiff(Forward, drift_track, DuplicatedNoNeed, Duplicated(l, 1.0))\n",
    "@btime autodiff(Forward, drift_track_mthread, DuplicatedNoNeed, Duplicated(l, 1.0))\n",
    "println(\"Single Thread AutoDiff = Multithread Autodiff?  \", grad1 == grad2)"
   ]
  },
  {
   "cell_type": "code",
   "execution_count": 11,
   "metadata": {},
   "outputs": [
    {
     "name": "stdout",
     "output_type": "stream",
     "text": [
      "  1.994 μs (37 allocations: 4.50 KiB)\n",
      "  110.527 μs (403 allocations: 48.97 KiB)\n",
      "  11.571 μs (118 allocations: 10.19 KiB)\n",
      "  122.861 μs (484 allocations: 66.97 KiB)\n",
      "Single Thread AutoDiff = Multithread Autodiff?  true\n"
     ]
    }
   ],
   "source": [
    "k1 = 1.0627727\n",
    "@btime quad_track(k1)\n",
    "@btime quad_track_mthread(k1)\n",
    "grad1 = autodiff(Forward, quad_track, DuplicatedNoNeed, Duplicated(k1, 1.0))\n",
    "grad2 = autodiff(Forward, quad_track_mthread, DuplicatedNoNeed, Duplicated(k1, 1.0))\n",
    "@btime autodiff(Forward, quad_track, DuplicatedNoNeed, Duplicated(k1, 1.0))\n",
    "@btime autodiff(Forward, quad_track_mthread, DuplicatedNoNeed, Duplicated(k1, 1.0))\n",
    "println(\"Single Thread AutoDiff = Multithread Autodiff?  \", grad1 == grad2)"
   ]
  },
  {
   "cell_type": "code",
   "execution_count": 12,
   "metadata": {},
   "outputs": [
    {
     "name": "stdout",
     "output_type": "stream",
     "text": [
      "  2.005 μs (37 allocations: 4.50 KiB)\n",
      "  107.853 μs (401 allocations: 48.91 KiB)\n",
      "  11.722 μs (118 allocations: 10.19 KiB)\n",
      "  118.733 μs (483 allocations: 66.94 KiB)\n",
      "Single Thread AutoDiff = Multithread Autodiff?  true\n"
     ]
    }
   ],
   "source": [
    "k2 = 1.0627727\n",
    "@btime sext_track(k2)\n",
    "@btime sext_track_mthread(k2)\n",
    "grad1 = autodiff(Forward, sext_track, DuplicatedNoNeed, Duplicated(k2, 1.0))\n",
    "grad2 = autodiff(Forward, sext_track_mthread, DuplicatedNoNeed, Duplicated(k2, 1.0))\n",
    "@btime autodiff(Forward, sext_track, DuplicatedNoNeed, Duplicated(k2, 1.0))\n",
    "@btime autodiff(Forward, sext_track_mthread, DuplicatedNoNeed, Duplicated(k2, 1.0))\n",
    "println(\"Single Thread AutoDiff = Multithread Autodiff?  \", grad1 == grad2)"
   ]
  },
  {
   "cell_type": "code",
   "execution_count": 13,
   "metadata": {},
   "outputs": [
    {
     "name": "stdout",
     "output_type": "stream",
     "text": [
      "  2.013 μs (37 allocations: 4.50 KiB)\n",
      "  91.892 μs (401 allocations: 48.91 KiB)\n",
      "  11.793 μs (118 allocations: 10.19 KiB)\n",
      "  116.438 μs (484 allocations: 66.97 KiB)\n",
      "Single Thread AutoDiff = Multithread Autodiff?  true\n"
     ]
    }
   ],
   "source": [
    "k3 = 1.0627727\n",
    "@btime oct_track(k3)\n",
    "@btime oct_track_mthread(k3)\n",
    "grad1 = autodiff(Forward, oct_track, DuplicatedNoNeed, Duplicated(k3, 1.0))\n",
    "grad2 = autodiff(Forward, oct_track_mthread, DuplicatedNoNeed, Duplicated(k3, 1.0))\n",
    "@btime autodiff(Forward, oct_track, DuplicatedNoNeed, Duplicated(k3, 1.0))\n",
    "@btime autodiff(Forward, oct_track_mthread, DuplicatedNoNeed, Duplicated(k3, 1.0))\n",
    "println(\"Single Thread AutoDiff = Multithread Autodiff?  \", grad1 == grad2)"
   ]
  },
  {
   "cell_type": "code",
   "execution_count": 5,
   "metadata": {},
   "outputs": [
    {
     "name": "stdout",
     "output_type": "stream",
     "text": [
      "  547.005 ns (21 allocations: 1.77 KiB)\n",
      "  101.570 μs (382 allocations: 42.11 KiB)\n",
      "  2.458 μs (49 allocations: 3.72 KiB)\n",
      "  112.111 μs (412 allocations: 51.12 KiB)\n",
      "Single Thread AutoDiff = Multithread Autodiff?  true\n"
     ]
    }
   ],
   "source": [
    "f = 60.\n",
    "@btime RFCA_track(f)\n",
    "@btime RFCA_track_mthread(f)\n",
    "grad1 = autodiff(Forward, RFCA_track, DuplicatedNoNeed, Duplicated(f, 1.0))\n",
    "grad2 = autodiff(Forward, RFCA_track_mthread, DuplicatedNoNeed, Duplicated(f, 1.0))\n",
    "@btime autodiff(Forward, RFCA_track, DuplicatedNoNeed, Duplicated(f, 1.0))\n",
    "@btime autodiff(Forward, RFCA_track_mthread, DuplicatedNoNeed, Duplicated(f, 1.0))\n",
    "println(\"Single Thread AutoDiff = Multithread Autodiff?  \", grad1 == grad2)\n",
    "\n",
    "\n"
   ]
  },
  {
   "cell_type": "code",
   "execution_count": 8,
   "metadata": {},
   "outputs": [
    {
     "name": "stdout",
     "output_type": "stream",
     "text": [
      "  824.774 ns (29 allocations: 3.64 KiB)\n",
      "  110.307 μs (393 allocations: 45.08 KiB)\n"
     ]
    }
   ],
   "source": [
    "ks = 1.0627727\n",
    "@btime sol_track(ks)\n",
    "@btime sol_track_mthread(ks)\n",
    "grad1 = autodiff(Forward, sol_track, DuplicatedNoNeed, Duplicated(ks, 1.0))\n",
    "grad2 = autodiff(Forward, sol_track_mthread, DuplicatedNoNeed, Duplicated(ks, 1.0))\n",
    "@btime autodiff(Forward, sol_track, DuplicatedNoNeed, Duplicated(ks, 1.0))\n",
    "@btime autodiff(Forward, sol_track_mthread, DuplicatedNoNeed, Duplicated(ks, 1.0))\n",
    "println(\"Single Thread AutoDiff = Multithread Autodiff?  \", grad1 == grad2)\n",
    "\n",
    "#Something in this cell consistently causes the cell to run forever"
   ]
  },
  {
   "cell_type": "code",
   "execution_count": 4,
   "metadata": {},
   "outputs": [
    {
     "name": "stdout",
     "output_type": "stream",
     "text": [
      "  992.900 ns (36 allocations: 4.39 KiB)\n",
      "  115.487 μs (402 allocations: 44.89 KiB)\n",
      "  2.826 μs (73 allocations: 7.97 KiB)\n",
      "  114.374 μs (434 allocations: 55.31 KiB)\n",
      "Single Thread AutoDiff = Multithread Autodiff?  true\n"
     ]
    }
   ],
   "source": [
    "k1 = 1.0627727\n",
    "@btime thinMulti_track(k1)\n",
    "@btime thinMulti_track_mthread(k1)\n",
    "grad1 = autodiff(Forward, thinMulti_track, DuplicatedNoNeed, Duplicated(k1, 1.0))\n",
    "grad2 = autodiff(Forward, thinMulti_track_mthread, DuplicatedNoNeed, Duplicated(k1, 1.0))\n",
    "@btime autodiff(Forward, thinMulti_track, DuplicatedNoNeed, Duplicated(k1, 1.0))\n",
    "@btime autodiff(Forward, thinMulti_track_mthread, DuplicatedNoNeed, Duplicated(k1, 1.0))\n",
    "println(\"Single Thread AutoDiff = Multithread Autodiff?  \", grad1 == grad2)"
   ]
  },
  {
   "cell_type": "code",
   "execution_count": 3,
   "metadata": {},
   "outputs": [
    {
     "data": {
      "text/plain": [
       "fodo_replace_track_mthread (generic function with 1 method)"
      ]
     },
     "metadata": {},
     "output_type": "display_data"
    }
   ],
   "source": [
    "function fodo_ring()\n",
    "        D1 = DRIFT(name=\"D1\", len=0.34)\n",
    "        D2 = DRIFT(name=\"D2\", len=0.59)\n",
    "        QF1 = KQUAD(name=\"QF1\", len=0.32, k1=1.06734, rad=1 )\n",
    "        QD1 = KQUAD(name=\"QD1\", len=0.32, k1=-1.192160, rad=1  )\n",
    "        BendingAngle = pi/2\n",
    "        BD1 = SBEND(name=\"BD1\", len=0.72, angle=BendingAngle/2, e1=BendingAngle/2, e2=0.0 , rad=1 )\n",
    "        BD2 = SBEND(name=\"BD2\", len=0.72, angle=BendingAngle/2, e1=0.0, e2=BendingAngle/2, rad=1 )\n",
    "\n",
    "        FODO = (QF1, D1, QD1, D1, QF1)\n",
    "        BD1_comp = (BD1)\n",
    "        BD2_comp = (BD2)\n",
    "        D2_comp = (D2)\n",
    "\n",
    "        CELL = Vector{AbstractElement}(undef, 8)\n",
    "        for i in eachindex(FODO)\n",
    "                CELL[i] = FODO[i]\n",
    "        end\n",
    "        CELL[length(FODO)+1] = BD1\n",
    "        CELL[length(FODO)+2] = D2\n",
    "        CELL[length(FODO)+3] = BD2\n",
    "                # CELL[i+172] = M5[i]\n",
    "        \n",
    "        ELIST = Vector{AbstractElement}(undef, 4*length(CELL))\n",
    "        for i in eachindex(CELL)\n",
    "                ELIST[i] = CELL[i]\n",
    "                ELIST[i+length(CELL)] = CELL[i]\n",
    "                ELIST[i+2*length(CELL)] = CELL[i]\n",
    "                ELIST[i+3*length(CELL)] = CELL[i]\n",
    "        end\n",
    "        return ELIST\n",
    "end\n",
    "\n",
    "function fodo_replace_track(k::Float64,ring) \n",
    "        particles = [.001 .0001 .0005 .0002 0.0 0.0] \n",
    "        beam = Beam(particles)\n",
    "        changed_idx = [1,5]\n",
    "        new_KQUAD = KQUAD(len=1.0, k1=k)\n",
    "        changed_ele = [new_KQUAD, new_KQUAD]\n",
    "        line = ring\n",
    "        ADlinepass!(line, Beam, changed_idx, changed_ele)\n",
    "        return beam.r\n",
    "end\n",
    "\n",
    "\n",
    "function fodo_replace_track_mthread(k,ring) \n",
    "        particles = [.001 .0001 .0005 .0002 0.0 0.0] \n",
    "        beam = Beam(particles)\n",
    "        changed_idx = [1,5]\n",
    "        new_KQUAD = KQUAD(len=1.0, k1=k)\n",
    "        changed_ele = [new_KQUAD, new_KQUAD]\n",
    "        line = ring\n",
    "        pADlinepass!(line, Beam, changed_idx, changed_ele)\n",
    "        return beam.r\n",
    "end\n"
   ]
  },
  {
   "cell_type": "code",
   "execution_count": 5,
   "metadata": {},
   "outputs": [
    {
     "ename": "MethodError",
     "evalue": "MethodError: no method matching ADlinepass!(::Vector{AbstractElement}, ::Type{Beam}, ::Vector{Int64}, ::Vector{KQUAD})\n\nClosest candidates are:\n  ADlinepass!(!Matched::Vector{Any}, !Matched::Beam, ::Vector{Int64}, !Matched::Vector{Any})\n   @ Main.JuTrack ~/JuTrackChristian.jl/src/tracking/track.jl:44\n",
     "output_type": "error",
     "traceback": [
      "MethodError: no method matching ADlinepass!(::Vector{AbstractElement}, ::Type{Beam}, ::Vector{Int64}, ::Vector{KQUAD})\n",
      "\n",
      "Closest candidates are:\n",
      "  ADlinepass!(!Matched::Vector{Any}, !Matched::Beam, ::Vector{Int64}, !Matched::Vector{Any})\n",
      "   @ Main.JuTrack ~/JuTrackChristian.jl/src/tracking/track.jl:44\n",
      "\n",
      "\n",
      "Stacktrace:\n",
      "  [1] fodo_replace_track(k::Float64, ring::Vector{AbstractElement})\n",
      "    @ Main ~/JuTrackChristian.jl/test/multithreading_comparison_single_particle.ipynb:41\n",
      "  [2] var\"##core#305\"()\n",
      "    @ Main ~/.julia/packages/BenchmarkTools/QNsku/src/execution.jl:561\n",
      "  [3] var\"##sample#306\"(::Tuple{}, __params::BenchmarkTools.Parameters)\n",
      "    @ Main ~/.julia/packages/BenchmarkTools/QNsku/src/execution.jl:570\n",
      "  [4] _lineartrial(b::BenchmarkTools.Benchmark, p::BenchmarkTools.Parameters; maxevals::Int64, kwargs::Base.Pairs{Symbol, Union{}, Tuple{}, NamedTuple{(), Tuple{}}})\n",
      "    @ BenchmarkTools ~/.julia/packages/BenchmarkTools/QNsku/src/execution.jl:187\n",
      "  [5] _lineartrial(b::BenchmarkTools.Benchmark, p::BenchmarkTools.Parameters)\n",
      "    @ BenchmarkTools ~/.julia/packages/BenchmarkTools/QNsku/src/execution.jl:182\n",
      "  [6] #invokelatest#2\n",
      "    @ ./essentials.jl:816 [inlined]\n",
      "  [7] invokelatest\n",
      "    @ ./essentials.jl:813 [inlined]\n",
      "  [8] #lineartrial#46\n",
      "    @ ~/.julia/packages/BenchmarkTools/QNsku/src/execution.jl:51 [inlined]\n",
      "  [9] lineartrial\n",
      "    @ ~/.julia/packages/BenchmarkTools/QNsku/src/execution.jl:50 [inlined]\n",
      " [10] tune!(b::BenchmarkTools.Benchmark, p::BenchmarkTools.Parameters; progressid::Nothing, nleaves::Float64, ndone::Float64, verbose::Bool, pad::String, kwargs::Base.Pairs{Symbol, Union{}, Tuple{}, NamedTuple{(), Tuple{}}})\n",
      "    @ BenchmarkTools ~/.julia/packages/BenchmarkTools/QNsku/src/execution.jl:300\n",
      " [11] tune!\n",
      "    @ ~/.julia/packages/BenchmarkTools/QNsku/src/execution.jl:289 [inlined]\n",
      " [12] tune!(b::BenchmarkTools.Benchmark)\n",
      "    @ BenchmarkTools ~/.julia/packages/BenchmarkTools/QNsku/src/execution.jl:289\n",
      " [13] top-level scope\n",
      "    @ ~/.julia/packages/BenchmarkTools/QNsku/src/execution.jl:666"
     ]
    }
   ],
   "source": [
    "k1 = 1.00064542\n",
    "@btime fodo_replace_track(k1, fodo_ring())\n",
    "@btime fodo_replace_track_mthread(k1, fodo_ring())\n",
    "grad1 = autodiff(Forward, fodo_replace_track, DuplicatedNoNeed, Duplicated(k1, 1.0), Const(ring))\n",
    "grad2 = autodiff(Forward, fodo_replace_track_mthread, DuplicatedNoNeed, Duplicated(k1, 1.0), Const(ring))\n",
    "@btime autodiff(Forward, fodo_replace_track, DuplicatedNoNeed, Duplicated(k1, 1.0), Const(ring))\n",
    "@btime autodiff(Forward, fodo_replace_track_mthread, DuplicatedNoNeed, Duplicated(k1, 1.0), Const(ring))\n",
    "println(\"Single Thread AutoDiff = Multithread Autodiff?  \", grad1 == grad2)"
   ]
  },
  {
   "cell_type": "code",
   "execution_count": null,
   "metadata": {},
   "outputs": [],
   "source": []
  }
 ],
 "metadata": {
  "kernelspec": {
   "display_name": "Julia 1.9.2",
   "language": "julia",
   "name": "julia-1.9"
  },
  "language_info": {
   "file_extension": ".jl",
   "mimetype": "application/julia",
   "name": "julia",
   "version": "1.9.2"
  },
  "orig_nbformat": 4
 },
 "nbformat": 4,
 "nbformat_minor": 2
}
