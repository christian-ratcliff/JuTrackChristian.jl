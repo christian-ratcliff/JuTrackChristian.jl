{
 "cells": [
  {
   "cell_type": "code",
   "execution_count": 1,
   "metadata": {},
   "outputs": [
    {
     "data": {
      "text/plain": [
       "Main.JuTrack"
      ]
     },
     "metadata": {},
     "output_type": "display_data"
    }
   ],
   "source": [
    "include(\"../src/JuTrack.jl\")"
   ]
  },
  {
   "cell_type": "code",
   "execution_count": 2,
   "metadata": {},
   "outputs": [],
   "source": [
    "using .JuTrack\n",
    "using Enzyme\n",
    "using Test\n",
    "using BenchmarkTools"
   ]
  },
  {
   "cell_type": "code",
   "execution_count": 3,
   "metadata": {},
   "outputs": [
    {
     "data": {
      "text/plain": [
       "64"
      ]
     },
     "metadata": {},
     "output_type": "display_data"
    }
   ],
   "source": [
    "Threads.nthreads()"
   ]
  },
  {
   "cell_type": "code",
   "execution_count": 3,
   "metadata": {},
   "outputs": [
    {
     "data": {
      "text/plain": [
       "generate_report (generic function with 1 method)"
      ]
     },
     "metadata": {},
     "output_type": "display_data"
    }
   ],
   "source": [
    "function create_sbend(BendingAngle)\n",
    "        SBD = SBEND(name=\"BD\", len=0.72, angle=BendingAngle/2, e1=BendingAngle/2, e2=0.0 , rad=1)\n",
    "        return [SBD]\n",
    "end        \n",
    "\n",
    "function sbend_track_mthread(BendingAngle)\n",
    "        particles = [.001 .0001 .0005 .0002 0.0 0.0] \n",
    "        beam = Beam(particles)\n",
    "        line = create_sbend(BendingAngle)\n",
    "        plinepass!(line, beam)\n",
    "        return beam.r\n",
    "end\n",
    "\n",
    "function sbend_track(BendingAngle)\n",
    "        particles = [.001 .0001 .0005 .0002 0.0 0.0] \n",
    "        beam = Beam(particles)\n",
    "        line = create_sbend(BendingAngle)\n",
    "        linepass!(line, beam)\n",
    "        return beam.r\n",
    "end\n",
    "\n",
    "function create_rbend(BendingAngle)\n",
    "        RBD = RBEND(name=\"BD\", len=0.72, angle=BendingAngle/2, rad=1)\n",
    "        return [RBD]\n",
    "end        \n",
    "\n",
    "function rbend_track_mthread(BendingAngle)\n",
    "        particles = [.001 .0001 .0005 .0002 0.0 0.0] \n",
    "        beam = Beam(particles)\n",
    "        line = create_rbend(BendingAngle)\n",
    "        plinepass!(line, beam)\n",
    "        return beam.r\n",
    "end\n",
    "\n",
    "function rbend_track(BendingAngle)\n",
    "        particles = [.001 .0001 .0005 .0002 0.0 0.0] \n",
    "        beam = Beam(particles)\n",
    "        line = create_rbend(BendingAngle)\n",
    "        linepass!(line, beam)\n",
    "        return beam.r\n",
    "end\n",
    "\n",
    "function corrector_track(hkick)\n",
    "        particles = [.001 .0001 .0005 .0002 0.0 0.0] \n",
    "        beam = Beam(particles)\n",
    "        line = [HKICKER(name=\"HKICK\", len=1.5, xkick=hkick)]\n",
    "        linepass!(line, beam)\n",
    "        return beam.r\n",
    "end\n",
    "\n",
    "function corrector_track_mthread(hkick)\n",
    "        particles = [.001 .0001 .0005 .0002 0.0 0.0] \n",
    "        beam = Beam(particles)\n",
    "        line = [HKICKER(name=\"HKICK\", len=1.5, xkick=hkick)]\n",
    "        plinepass!(line, beam)\n",
    "        return beam.r\n",
    "end\n",
    "\n",
    "function crabcavity_track(f)\n",
    "        particles = [.001 .0001 .0005 .0002 0.0 0.0] \n",
    "        beam = Beam(particles)\n",
    "        line = [CRABCAVITY(name=\"CRABCAV\", len=1.5,volt=1.2, freq=f)]\n",
    "        linepass!(line, beam)\n",
    "        return beam.r\n",
    "end\n",
    "\n",
    "function crabcavity_track_mthread(f)\n",
    "        particles = [.001 .0001 .0005 .0002 0.0 0.0] \n",
    "        beam = Beam(particles)\n",
    "        line = [CRABCAVITY(name=\"CRABCAV\", len=1.5,volt=1.2, freq=f)]\n",
    "        plinepass!(line, beam)\n",
    "        return beam.r\n",
    "end\n",
    "\n",
    "function easycrabcavity_track(f)\n",
    "        particles = [.001 .0001 .0005 .0002 0.0 0.0] \n",
    "        beam = Beam(particles)\n",
    "        line = [easyCRABCAVITY(name=\"easyCRABCAV\", len=1.5, freq=f)]\n",
    "        linepass!(line, beam)\n",
    "        return beam.r\n",
    "end\n",
    "\n",
    "function easycrabcavity_track_mthread(f)\n",
    "        particles = [.001 .0001 .0005 .0002 0.0 0.0] \n",
    "        beam = Beam(particles)\n",
    "        line = [easyCRABCAVITY(name=\"easyCRABCAV\", len=1.5, freq=f)]\n",
    "        plinepass!(line, beam)\n",
    "        return beam.r\n",
    "end\n",
    "\n",
    "function accelcavity_track(f)\n",
    "        particles = [.001 .0001 .0005 .0002 0.0 0.0] \n",
    "        beam = Beam(particles)\n",
    "        line = [AccelCavity(name=\"AccCAV\", len=1.5, freq=f)]\n",
    "        linepass!(line, beam)\n",
    "        return beam.r\n",
    "end\n",
    "\n",
    "function accelcavity_track_mthread(f)\n",
    "        particles = [.001 .0001 .0005 .0002 0.0 0.0] \n",
    "        beam = Beam(particles)\n",
    "        line = [AccelCavity(name=\"AccCAV\", len=1.5, freq=f)]\n",
    "        plinepass!(line, beam)\n",
    "        return beam.r\n",
    "end\n",
    "\n",
    "function create_drift(l)\n",
    "        dr = DRIFT(len=l)\n",
    "        return dr\n",
    "end\n",
    "\n",
    "function drift_track(l)\n",
    "        particles = [.001 .0001 .0005 .0002 0.0 0.0] \n",
    "        beam = Beam(particles)\n",
    "        line = [create_drift(l)]\n",
    "        linepass!(line, beam)\n",
    "        return beam.r\n",
    "end\n",
    "\n",
    "function drift_track_mthread(l)\n",
    "        particles = [.001 .0001 .0005 .0002 0.0 0.0] \n",
    "        beam = Beam(particles)\n",
    "        line = [create_drift(l)]\n",
    "        plinepass!(line, beam)\n",
    "        return beam.r\n",
    "end\n",
    "\n",
    "function lorentz_track(ang)\n",
    "        particles = [.001 .0001 .0005 .0002 0.0 0.0] \n",
    "        beam = Beam(particles)\n",
    "        line = [LorentzBoost(ang)]\n",
    "        linepass!(line, beam)\n",
    "        return beam.r\n",
    "end\n",
    "\n",
    "function lorentz_track_mthread(ang)\n",
    "        particles = [.001 .0001 .0005 .0002 0.0 0.0] \n",
    "        beam = Beam(particles)\n",
    "        line = [LorentzBoost(ang)]\n",
    "        plinepass!(line, beam)\n",
    "        return beam.r\n",
    "end\n",
    "\n",
    "function invlorentz_track(ang)\n",
    "        particles = [.001 .0001 .0005 .0002 0.0 0.0] \n",
    "        beam = Beam(particles)\n",
    "        line = [InvLorentzBoost(ang)]\n",
    "        linepass!(line, beam)\n",
    "        return beam.r\n",
    "end\n",
    "\n",
    "function invlorentz_track_mthread(ang)\n",
    "        particles = [.001 .0001 .0005 .0002 0.0 0.0] \n",
    "        beam = Beam(particles)\n",
    "        line = [InvLorentzBoost(ang)]\n",
    "        plinepass!(line, beam)\n",
    "        return beam.r\n",
    "end\n",
    "\n",
    "\n",
    "function create_quad(k)\n",
    "        return KQUAD(len=0.5, k1=k)\n",
    "end\n",
    "\n",
    "function quad_track(k)\n",
    "        particles = [.001 .0001 .0005 .0002 0.0 0.0] \n",
    "        beam = Beam(particles)\n",
    "        line = [create_quad(k)]\n",
    "        linepass!(line, beam)\n",
    "        return beam.r\n",
    "end\n",
    "\n",
    "function quad_track_mthread(k)\n",
    "        particles = [.001 .0001 .0005 .0002 0.0 0.0] \n",
    "        beam = Beam(particles)\n",
    "        line = [create_quad(k)]\n",
    "        plinepass!(line, beam)\n",
    "        return beam.r\n",
    "end\n",
    "\n",
    "function create_sext(k)\n",
    "        return KSEXT(len=0.5, k2=k)\n",
    "end\n",
    "\n",
    "function sext_track(k)\n",
    "        particles = [.001 .0001 .0005 .0002 0.0 0.0] \n",
    "        beam = Beam(particles)\n",
    "        line = [create_sext(k)]\n",
    "        linepass!(line, beam)\n",
    "        return beam.r\n",
    "end\n",
    "\n",
    "function sext_track_mthread(k)\n",
    "        particles = [.001 .0001 .0005 .0002 0.0 0.0] \n",
    "        beam = Beam(particles)\n",
    "        line = [create_sext(k)]\n",
    "        plinepass!(line, beam)\n",
    "        return beam.r\n",
    "end\n",
    "\n",
    "function create_oct(k)\n",
    "        return KOCT(len=0.5, k3=k)\n",
    "end\n",
    "\n",
    "function oct_track(k)\n",
    "        particles = [.001 .0001 .0005 .0002 0.0 0.0] \n",
    "        beam = Beam(particles)\n",
    "        line = [create_oct(k)]\n",
    "        linepass!(line, beam)\n",
    "        return beam.r\n",
    "end\n",
    "\n",
    "function oct_track_mthread(k)\n",
    "        particles = [.001 .0001 .0005 .0002 0.0 0.0] \n",
    "        beam = Beam(particles)\n",
    "        line = [create_oct(k)]\n",
    "        plinepass!(line, beam)\n",
    "        return beam.r\n",
    "end\n",
    "\n",
    "function create_RFCA(f)\n",
    "        return RFCA(len=1.034, volt=2.2, freq=f, energy = 30e4)\n",
    "end\n",
    "\n",
    "function RFCA_track(f)\n",
    "        particles = [.001 .0001 .0005 .0002 0.0 0.0] \n",
    "        beam = Beam(particles)\n",
    "        line = [create_RFCA(f)]\n",
    "        linepass!(line, beam)\n",
    "        return beam.r\n",
    "end\n",
    "\n",
    "function RFCA_track_mthread(f)\n",
    "        particles = [.001 .0001 .0005 .0002 0.0 0.0] \n",
    "        beam = Beam(particles)\n",
    "        line = [create_RFCA(f)]\n",
    "        plinepass!(line, beam)\n",
    "        return beam.r\n",
    "end\n",
    "\n",
    "\n",
    "function create_sol(k)\n",
    "        return SOLENOID(len=0.5, ks=k)\n",
    "end\n",
    "\n",
    "function sol_track(k)\n",
    "        particles = [.001 .0001 .0005 .0002 0.0 0.0] \n",
    "        beam = Beam(particles)\n",
    "        line = [create_sol(k)]\n",
    "        linepass!(line, beam)\n",
    "        return beam.r\n",
    "end\n",
    "\n",
    "function sol_track_mthread(k)\n",
    "        particles = [.001 .0001 .0005 .0002 0.0 0.0] \n",
    "        beam = Beam(particles)\n",
    "        line = [create_sol(k)]\n",
    "        plinepass!(line, beam)\n",
    "        return beam.r\n",
    "end\n",
    "\n",
    "function generate_report(time_track, time_track_mthread, time_ad, time_ad_mthread)\n",
    "        \n",
    "        if time_track[1] == time_track_mthread[1]\n",
    "                println(\"Multithreading matches single thread tracking\")\n",
    "        else\n",
    "                println(\"Multithreading DOES NOT match single thread tracking\")\n",
    "        end\n",
    "        \n",
    "        \n",
    "        # grad1 = autodiff(Forward, sbend_track, DuplicatedNoNeed, Duplicated(bend_angle, 1.0))\n",
    "        # grad2 = autodiff(Forward, sbend_track_mthread, DuplicatedNoNeed, Duplicated(bend_angle, 1.0))\n",
    "        \n",
    "        if time_ad[1] == time_ad_mthread[1]\n",
    "                println(\"Multithreading matches single thread AD\")\n",
    "        else\n",
    "                println(\"Multithreading DOES NOT match single thread AD\")\n",
    "        end\n",
    "        println(\"\")\n",
    "        println(\"\")\n",
    "        \n",
    "        \n",
    "        \n",
    "        \n",
    "        # Benchmarking\n",
    "        \n",
    "        \n",
    "        #Tracking\n",
    "        println(\"Tracking\")\n",
    "        println(\"\")\n",
    "        println(\"Single Thread Tracking Time: \", time_track[2])\n",
    "        println(\"Multi Thread Tracking Time: \", time_track_mthread[2])\n",
    "        if time_track[2] < time_track_mthread[2]\n",
    "                println(\"Single thread tracking is faster by \" * string(time_track_mthread[2] - time_track[2]) * \" seconds\")\n",
    "        else\n",
    "                println(\"Multithread tracking is faster by \" * string(time_track[2] - time_track_mthread[2]) * \" seconds\")\n",
    "        end\n",
    "        \n",
    "        println(\"\")\n",
    "        println(\"Single Thread tracking Memory: \", time_track[3] , \" bytes\")\n",
    "        println(\"Multi Thread tracking Memory: \", time_track_mthread[3], \" bytes\")\n",
    "        if time_track[2] < time_track_mthread[2]\n",
    "                println(\"Single thread tracking uses less memory by \" * string(time_track_mthread[3] - time_track[3]) * \" bytes\")\n",
    "        else\n",
    "                println(\"Multithread tracking uses less memory faster by \" * string(time_track[3] - time_track_mthread[3]) * \" bytes\")\n",
    "        end\n",
    "        \n",
    "        # AD\n",
    "        println(\"AD\")\n",
    "        println(\"\")\n",
    "        println(\"Single Thread AD Time: \", time_ad[2])\n",
    "        println(\"Multi Thread AD Time: \", time_ad_mthread[2])\n",
    "        if time_ad[2] < time_ad_mthread[2]\n",
    "                println(\"Single thread tracking is faster by \" * string(time_ad_mthread[2] - time_ad[2]) * \" seconds\")\n",
    "        else\n",
    "                println(\"Multithread tracking is faster by \" * string(time_ad[2] - time_ad_mthread[2]) * \" seconds\")\n",
    "        end\n",
    "        \n",
    "        println(\"\")\n",
    "        println(\"Single Thread AD Memory: \", time_ad[3] , \" bytes\")\n",
    "        println(\"Multi Thread AD Memory: \", time_ad_mthread[3], \" bytes\")\n",
    "        if time_ad[2] < time_ad_mthread[2]\n",
    "                println(\"Single thread AD uses less memory by \" * string(time_ad_mthread[3] - time_ad[3]) * \" bytes\")\n",
    "        else\n",
    "                println(\"Multithread AD uses less memory faster by \" * string(time_ad[3] - time_ad_mthread[3]) * \" bytes\")\n",
    "        end\n",
    "        return\n",
    "end"
   ]
  },
  {
   "cell_type": "code",
   "execution_count": 5,
   "metadata": {},
   "outputs": [
    {
     "name": "stdout",
     "output_type": "stream",
     "text": [
      "  5.762 μs (336 allocations: 9.14 KiB)\n",
      "  9.645 μs (336 allocations: 9.14 KiB)\n",
      "  65.734 μs (923 allocations: 25.28 KiB)\n",
      "  111.529 μs (1287 allocations: 91.66 KiB)\n"
     ]
    },
    {
     "data": {
      "text/plain": [
       "(var\"1\" = [0.0006981465192586433 -3.869851283105262e-5 … 0.001016262669482516 -1.5396545231471266e-5],)"
      ]
     },
     "metadata": {},
     "output_type": "display_data"
    }
   ],
   "source": [
    "bend_angle = pi/2\n",
    "@btime sbend_track(bend_angle)\n",
    "@btime sbend_track(bend_angle)\n",
    "@btime autodiff(Forward, sbend_track, DuplicatedNoNeed, Duplicated(bend_angle, 1.0))\n",
    "@btime autodiff(Forward, sbend_track_mthread, DuplicatedNoNeed, Duplicated(bend_angle, 1.0))"
   ]
  },
  {
   "cell_type": "code",
   "execution_count": 23,
   "metadata": {},
   "outputs": [
    {
     "name": "stdout",
     "output_type": "stream",
     "text": [
      "  10.269 μs (336 allocations: 9.14 KiB)\n",
      "  5.667 μs (336 allocations: 9.14 KiB)\n",
      "  68.568 μs (923 allocations: 25.28 KiB)\n",
      "  122.580 μs (1289 allocations: 91.72 KiB)\n"
     ]
    },
    {
     "data": {
      "text/plain": [
       "(var\"1\" = [-8.957881904710433e-6 -3.3952996351491866e-6 … 0.0006013174488390927 -1.538592752781908e-5],)"
      ]
     },
     "metadata": {},
     "output_type": "display_data"
    }
   ],
   "source": [
    "bend_angle = pi/2\n",
    "@btime rbend_track(bend_angle)\n",
    "@btime rbend_track(bend_angle)\n",
    "@btime autodiff(Forward, rbend_track, DuplicatedNoNeed, Duplicated(bend_angle, 1.0))\n",
    "@btime autodiff(Forward, rbend_track_mthread, DuplicatedNoNeed, Duplicated(bend_angle, 1.0))"
   ]
  },
  {
   "cell_type": "code",
   "execution_count": 9,
   "metadata": {},
   "outputs": [
    {
     "name": "stdout",
     "output_type": "stream",
     "text": [
      "  1.355 μs (29 allocations: 3.64 KiB)\n",
      "  115.968 μs (391 allocations: 43.02 KiB)\n",
      "  2.592 μs (59 allocations: 6.47 KiB)\n",
      "  102.753 μs (419 allocations: 51.78 KiB)\n"
     ]
    },
    {
     "data": {
      "text/plain": [
       "(var\"1\" = [0.75 1.0 … 0.010074999999999999 0.0],)"
      ]
     },
     "metadata": {},
     "output_type": "display_data"
    }
   ],
   "source": [
    "hkick = 0.02\n",
    "@btime corrector_track(hkick)\n",
    "@btime corrector_track_mthread(hkick)\n",
    "@btime autodiff(Forward, corrector_track, DuplicatedNoNeed, Duplicated(hkick, 1.0))\n",
    "@btime autodiff(Forward, corrector_track_mthread, DuplicatedNoNeed, Duplicated(hkick, 1.0))\n"
   ]
  },
  {
   "cell_type": "code",
   "execution_count": 16,
   "metadata": {},
   "outputs": [
    {
     "name": "stdout",
     "output_type": "stream",
     "text": [
      "  844.606 ns (16 allocations: 1.75 KiB)\n",
      "  118.763 μs (375 allocations: 42.03 KiB)\n",
      "  1.293 μs (33 allocations: 3.50 KiB)\n",
      "  123.472 μs (393 allocations: 51.81 KiB)\n"
     ]
    },
    {
     "data": {
      "text/plain": [
       "(var\"1\" = [0.0 0.0 … 0.0 -2.5150146830624676e-20],)"
      ]
     },
     "metadata": {},
     "output_type": "display_data"
    }
   ],
   "source": [
    "freq = 0.02\n",
    "@btime crabcavity_track(freq)\n",
    "@btime crabcavity_track_mthread(freq)\n",
    "@btime autodiff(Forward, crabcavity_track, DuplicatedNoNeed, Duplicated(freq, 1.0))\n",
    "@btime autodiff(Forward, crabcavity_track_mthread, DuplicatedNoNeed, Duplicated(freq, 1.0))\n"
   ]
  },
  {
   "cell_type": "code",
   "execution_count": 25,
   "metadata": {},
   "outputs": [
    {
     "name": "stdout",
     "output_type": "stream",
     "text": [
      "  734.964 ns (16 allocations: 1.75 KiB)\n",
      "  120.215 μs (378 allocations: 41.12 KiB)\n",
      "  818.633 ns (31 allocations: 3.44 KiB)\n",
      "  105.898 μs (391 allocations: 49.75 KiB)\n"
     ]
    },
    {
     "data": {
      "text/plain": [
       "(var\"1\" = [0.0 0.0 … 0.0 0.0],)"
      ]
     },
     "metadata": {},
     "output_type": "display_data"
    }
   ],
   "source": [
    "freq = 0.02\n",
    "@btime easycrabcavity_track(freq)\n",
    "@btime easycrabcavity_track_mthread(freq)\n",
    "@btime autodiff(Forward, easycrabcavity_track, DuplicatedNoNeed, Duplicated(freq, 1.0))\n",
    "@btime autodiff(Forward, easycrabcavity_track_mthread, DuplicatedNoNeed, Duplicated(freq, 1.0))"
   ]
  },
  {
   "cell_type": "code",
   "execution_count": 7,
   "metadata": {},
   "outputs": [],
   "source": [
    "# freq = 0.02\n",
    "# @btime accelcavity_track(freq)\n",
    "# @btime accelcavity_track_mthread(freq)\n",
    "# @btime autodiff(Forward, accelcavity_track, DuplicatedNoNeed, Duplicated(freq, 1.0))\n",
    "# @btime autodiff(Forward, accelcavity_track_mthread, DuplicatedNoNeed, Duplicated(freq, 1.0))\n",
    "\n",
    "\n",
    "#Something in this cell consistently causes the cell to run forever, I had to manually end after waiting ~20 min"
   ]
  },
  {
   "cell_type": "code",
   "execution_count": 10,
   "metadata": {},
   "outputs": [
    {
     "name": "stdout",
     "output_type": "stream",
     "text": [
      "  1.490 μs (31 allocations: 3.86 KiB)\n",
      "  115.276 μs (394 allocations: 42.27 KiB)\n",
      "  4.343 μs (64 allocations: 6.94 KiB)\n",
      "  107.962 μs (427 allocations: 50.34 KiB)\n"
     ]
    },
    {
     "data": {
      "text/plain": [
       "(var\"1\" = [0.0001 0.0 … 2.5e-8 0.0],)"
      ]
     },
     "metadata": {},
     "output_type": "display_data"
    }
   ],
   "source": [
    "l = 1.23\n",
    "@btime drift_track(l)\n",
    "@btime drift_track_mthread(l)\n",
    "@btime autodiff(Forward, drift_track, DuplicatedNoNeed, Duplicated(l, 1.0))\n",
    "@btime autodiff(Forward, drift_track_mthread, DuplicatedNoNeed, Duplicated(l, 1.0))"
   ]
  },
  {
   "cell_type": "code",
   "execution_count": 11,
   "metadata": {},
   "outputs": [],
   "source": [
    "#There is no P_pass! created for fringe"
   ]
  },
  {
   "cell_type": "code",
   "execution_count": 13,
   "metadata": {},
   "outputs": [
    {
     "name": "stdout",
     "output_type": "stream",
     "text": [
      "  708.446 ns (15 allocations: 1.64 KiB)\n",
      "  106.710 μs (375 allocations: 39.95 KiB)\n",
      "  781.265 ns (29 allocations: 3.22 KiB)\n",
      "  106.630 μs (387 allocations: 46.47 KiB)\n"
     ]
    },
    {
     "data": {
      "text/plain": [
       "(var\"1\" = [0.0 0.00034641016151377535 … 0.0 -0.00039999999999999986],)"
      ]
     },
     "metadata": {},
     "output_type": "display_data"
    }
   ],
   "source": [
    "ang = pi/3\n",
    "@btime lorentz_track(ang)\n",
    "@btime lorentz_track_mthread(ang)\n",
    "@btime autodiff(Forward, lorentz_track, DuplicatedNoNeed, Duplicated(ang, 1.0))\n",
    "@btime autodiff(Forward, lorentz_track_mthread, DuplicatedNoNeed, Duplicated(ang, 1.0))"
   ]
  },
  {
   "cell_type": "code",
   "execution_count": 15,
   "metadata": {},
   "outputs": [
    {
     "name": "stdout",
     "output_type": "stream",
     "text": [
      "  703.817 ns (15 allocations: 1.64 KiB)\n"
     ]
    }
   ],
   "source": [
    "# ang = pi/3\n",
    "# @btime invlorentz_track(ang)\n",
    "# @btime invlorentz_track_mthread(ang)\n",
    "# @btime autodiff(Forward, invlorentz_track, DuplicatedNoNeed, Duplicated(ang, 1.0))\n",
    "# @btime autodiff(Forward, invlorentz_track_mthread, DuplicatedNoNeed, Duplicated(ang, 1.0))\n",
    "\n",
    "\n",
    "#Something in this cell consistently causes the cell to run forever"
   ]
  },
  {
   "cell_type": "code",
   "execution_count": 6,
   "metadata": {},
   "outputs": [
    {
     "name": "stdout",
     "output_type": "stream",
     "text": [
      "  3.690 μs (37 allocations: 4.50 KiB)\n",
      "  108.444 μs (400 allocations: 48.88 KiB)\n",
      "  12.243 μs (118 allocations: 10.19 KiB)\n",
      "  110.577 μs (482 allocations: 66.91 KiB)\n"
     ]
    },
    {
     "data": {
      "text/plain": [
       "(var\"1\" = [-0.00012156598126340775 -0.00046854559248945556 … 5.80243269855778e-8 0.0],)"
      ]
     },
     "metadata": {},
     "output_type": "display_data"
    }
   ],
   "source": [
    "k1 = 1.0627727\n",
    "@btime quad_track(k1)\n",
    "@btime quad_track_mthread(k1)\n",
    "@btime autodiff(Forward, quad_track, DuplicatedNoNeed, Duplicated(k1, 1.0))\n",
    "@btime autodiff(Forward, quad_track_mthread, DuplicatedNoNeed, Duplicated(k1, 1.0))"
   ]
  },
  {
   "cell_type": "markdown",
   "metadata": {},
   "source": [
    "k2 = 1.0627727\n",
    "@btime sext_track(k2)\n",
    "@btime sext_track_mthread(k2)\n",
    "@btime autodiff(Forward, sext_track, DuplicatedNoNeed, Duplicated(k2, 1.0))\n",
    "@btime autodiff(Forward, sext_track_mthread, DuplicatedNoNeed, Duplicated(k2, 1.0))"
   ]
  },
  {
   "cell_type": "code",
   "execution_count": 13,
   "metadata": {},
   "outputs": [
    {
     "name": "stdout",
     "output_type": "stream",
     "text": [
      "  4.004 μs (37 allocations: 4.50 KiB)\n",
      "  103.544 μs (401 allocations: 48.91 KiB)\n",
      "  12.603 μs (118 allocations: 10.19 KiB)\n",
      "  111.720 μs (483 allocations: 66.94 KiB)\n"
     ]
    },
    {
     "data": {
      "text/plain": [
       "(var\"1\" = [-3.77317618095027e-12 -1.1950513803304095e-11 … 5.885602002430664e-15 0.0],)"
      ]
     },
     "metadata": {},
     "output_type": "display_data"
    }
   ],
   "source": [
    "k3 = 1.0627727\n",
    "@btime oct_track(k3)\n",
    "@btime oct_track_mthread(k3)\n",
    "@btime autodiff(Forward, oct_track, DuplicatedNoNeed, Duplicated(k3, 1.0))\n",
    "@btime autodiff(Forward, oct_track_mthread, DuplicatedNoNeed, Duplicated(k3, 1.0))"
   ]
  },
  {
   "cell_type": "code",
   "execution_count": 15,
   "metadata": {},
   "outputs": [],
   "source": [
    "# f = 60\n",
    "# @btime RFCA_track(f)\n",
    "# @btime RFCA_track_mthread(f)\n",
    "# @btime autodiff(Forward, RFCA_track, DuplicatedNoNeed, Duplicated(f, 1.0))\n",
    "# @btime autodiff(Forward, RFCA_track_mthread, DuplicatedNoNeed, Duplicated(f, 1.0))\n",
    "\n",
    "\n",
    "#RFCavityPass_P has T0 as Int, but non _P has it as Float\n",
    "#The Pass and Pass_P function are different in ways that the other _P haven't been.\n"
   ]
  },
  {
   "cell_type": "code",
   "execution_count": 5,
   "metadata": {},
   "outputs": [],
   "source": [
    "# ks = 1.0627727\n",
    "# @btime sol_track(ks)\n",
    "# @btime sol_track_mthread(ks)\n",
    "# @btime autodiff(Forward, sol_track, DuplicatedNoNeed, Duplicated(ks, 1.0))\n",
    "# @btime autodiff(Forward, sol_track_mthread, DuplicatedNoNeed, Duplicated(ks, 1.0))\n",
    "\n",
    "#Something in this cell consistently causes the cell to run forever"
   ]
  },
  {
   "cell_type": "code",
   "execution_count": null,
   "metadata": {},
   "outputs": [],
   "source": [
    "#StongBeamBeam didn't have a mthread version"
   ]
  },
  {
   "cell_type": "code",
   "execution_count": null,
   "metadata": {},
   "outputs": [],
   "source": [
    "#Haven't done the thinmultipole, not sure what exactly the parameter I change should look like"
   ]
  },
  {
   "cell_type": "code",
   "execution_count": null,
   "metadata": {},
   "outputs": [],
   "source": []
  }
 ],
 "metadata": {
  "kernelspec": {
   "display_name": "Julia 1.9.2",
   "language": "julia",
   "name": "julia-1.9"
  },
  "language_info": {
   "file_extension": ".jl",
   "mimetype": "application/julia",
   "name": "julia",
   "version": "1.9.2"
  },
  "orig_nbformat": 4
 },
 "nbformat": 4,
 "nbformat_minor": 2
}
